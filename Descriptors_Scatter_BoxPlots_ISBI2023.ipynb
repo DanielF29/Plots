{
  "nbformat": 4,
  "nbformat_minor": 0,
  "metadata": {
    "colab": {
      "provenance": [],
      "collapsed_sections": [
        "mGVUPRHvqgxS",
        "gGQIQbOjzi6f",
        "yLqAQ29jfC9y",
        "5mY7wBDFpIBU",
        "Vn5sPCZQo-ys"
      ]
    },
    "kernelspec": {
      "name": "python3",
      "display_name": "Python 3"
    },
    "language_info": {
      "name": "python"
    }
  },
  "cells": [
    {
      "cell_type": "code",
      "source": [
        "!ls -al\n"
      ],
      "metadata": {
        "colab": {
          "base_uri": "https://localhost:8080/"
        },
        "id": "Y9-AzpsDyB83",
        "outputId": "a9e54ceb-4ee6-4223-bf14-d9a3cbd223e2"
      },
      "execution_count": null,
      "outputs": [
        {
          "output_type": "stream",
          "name": "stdout",
          "text": [
            "total 16\n",
            "drwxr-xr-x 1 root root 4096 Jan  5 14:34 .\n",
            "drwxr-xr-x 1 root root 4096 Jan  6 20:20 ..\n",
            "drwxr-xr-x 4 root root 4096 Jan  5 14:33 .config\n",
            "drwxr-xr-x 1 root root 4096 Jan  5 14:34 sample_data\n"
          ]
        }
      ]
    },
    {
      "cell_type": "markdown",
      "source": [
        "# Scatter Box-Plots from Main performance Results"
      ],
      "metadata": {
        "id": "mGVUPRHvqgxS"
      }
    },
    {
      "cell_type": "code",
      "execution_count": null,
      "metadata": {
        "id": "iw3m5Cg-wS6e",
        "outputId": "924bdd1f-888f-40da-ed3f-798c7af94eee",
        "colab": {
          "base_uri": "https://localhost:8080/",
          "height": 380
        }
      },
      "outputs": [
        {
          "output_type": "error",
          "ename": "FileNotFoundError",
          "evalue": "ignored",
          "traceback": [
            "\u001b[0;31m---------------------------------------------------------------------------\u001b[0m",
            "\u001b[0;31mFileNotFoundError\u001b[0m                         Traceback (most recent call last)",
            "\u001b[0;32m<ipython-input-2-4f6c9cc0245e>\u001b[0m in \u001b[0;36m<module>\u001b[0;34m\u001b[0m\n\u001b[1;32m      7\u001b[0m \u001b[0;34m\u001b[0m\u001b[0m\n\u001b[1;32m      8\u001b[0m \u001b[0;31m#data = load_iris(as_frame=True)\u001b[0m\u001b[0;34m\u001b[0m\u001b[0;34m\u001b[0m\u001b[0;34m\u001b[0m\u001b[0m\n\u001b[0;32m----> 9\u001b[0;31m \u001b[0mdata_NoDAvsDA\u001b[0m   \u001b[0;34m=\u001b[0m \u001b[0mpd\u001b[0m\u001b[0;34m.\u001b[0m\u001b[0mread_csv\u001b[0m\u001b[0;34m(\u001b[0m\u001b[0;34m'pps_accuracy_NoDAvsDA.csv'\u001b[0m\u001b[0;34m,\u001b[0m \u001b[0msep\u001b[0m\u001b[0;34m=\u001b[0m\u001b[0;34m';'\u001b[0m \u001b[0;34m)\u001b[0m\u001b[0;34m\u001b[0m\u001b[0;34m\u001b[0m\u001b[0m\n\u001b[0m\u001b[1;32m     10\u001b[0m \u001b[0mdata_backbones\u001b[0m \u001b[0;34m=\u001b[0m \u001b[0mpd\u001b[0m\u001b[0;34m.\u001b[0m\u001b[0mread_csv\u001b[0m\u001b[0;34m(\u001b[0m\u001b[0;34m'pps_accuracy_backbones.csv'\u001b[0m\u001b[0;34m,\u001b[0m \u001b[0msep\u001b[0m\u001b[0;34m=\u001b[0m\u001b[0;34m';'\u001b[0m \u001b[0;34m)\u001b[0m\u001b[0;34m\u001b[0m\u001b[0;34m\u001b[0m\u001b[0m\n\u001b[1;32m     11\u001b[0m \u001b[0mdata_per_pps_number\u001b[0m \u001b[0;34m=\u001b[0m \u001b[0mpd\u001b[0m\u001b[0;34m.\u001b[0m\u001b[0mread_csv\u001b[0m\u001b[0;34m(\u001b[0m\u001b[0;34m'pps_accuracy_per_pps_number.csv'\u001b[0m\u001b[0;34m,\u001b[0m \u001b[0msep\u001b[0m\u001b[0;34m=\u001b[0m\u001b[0;34m';'\u001b[0m \u001b[0;34m)\u001b[0m\u001b[0;34m\u001b[0m\u001b[0;34m\u001b[0m\u001b[0m\n",
            "\u001b[0;32m/usr/local/lib/python3.8/dist-packages/pandas/util/_decorators.py\u001b[0m in \u001b[0;36mwrapper\u001b[0;34m(*args, **kwargs)\u001b[0m\n\u001b[1;32m    309\u001b[0m                     \u001b[0mstacklevel\u001b[0m\u001b[0;34m=\u001b[0m\u001b[0mstacklevel\u001b[0m\u001b[0;34m,\u001b[0m\u001b[0;34m\u001b[0m\u001b[0;34m\u001b[0m\u001b[0m\n\u001b[1;32m    310\u001b[0m                 )\n\u001b[0;32m--> 311\u001b[0;31m             \u001b[0;32mreturn\u001b[0m \u001b[0mfunc\u001b[0m\u001b[0;34m(\u001b[0m\u001b[0;34m*\u001b[0m\u001b[0margs\u001b[0m\u001b[0;34m,\u001b[0m \u001b[0;34m**\u001b[0m\u001b[0mkwargs\u001b[0m\u001b[0;34m)\u001b[0m\u001b[0;34m\u001b[0m\u001b[0;34m\u001b[0m\u001b[0m\n\u001b[0m\u001b[1;32m    312\u001b[0m \u001b[0;34m\u001b[0m\u001b[0m\n\u001b[1;32m    313\u001b[0m         \u001b[0;32mreturn\u001b[0m \u001b[0mwrapper\u001b[0m\u001b[0;34m\u001b[0m\u001b[0;34m\u001b[0m\u001b[0m\n",
            "\u001b[0;32m/usr/local/lib/python3.8/dist-packages/pandas/io/parsers/readers.py\u001b[0m in \u001b[0;36mread_csv\u001b[0;34m(filepath_or_buffer, sep, delimiter, header, names, index_col, usecols, squeeze, prefix, mangle_dupe_cols, dtype, engine, converters, true_values, false_values, skipinitialspace, skiprows, skipfooter, nrows, na_values, keep_default_na, na_filter, verbose, skip_blank_lines, parse_dates, infer_datetime_format, keep_date_col, date_parser, dayfirst, cache_dates, iterator, chunksize, compression, thousands, decimal, lineterminator, quotechar, quoting, doublequote, escapechar, comment, encoding, encoding_errors, dialect, error_bad_lines, warn_bad_lines, on_bad_lines, delim_whitespace, low_memory, memory_map, float_precision, storage_options)\u001b[0m\n\u001b[1;32m    584\u001b[0m     \u001b[0mkwds\u001b[0m\u001b[0;34m.\u001b[0m\u001b[0mupdate\u001b[0m\u001b[0;34m(\u001b[0m\u001b[0mkwds_defaults\u001b[0m\u001b[0;34m)\u001b[0m\u001b[0;34m\u001b[0m\u001b[0;34m\u001b[0m\u001b[0m\n\u001b[1;32m    585\u001b[0m \u001b[0;34m\u001b[0m\u001b[0m\n\u001b[0;32m--> 586\u001b[0;31m     \u001b[0;32mreturn\u001b[0m \u001b[0m_read\u001b[0m\u001b[0;34m(\u001b[0m\u001b[0mfilepath_or_buffer\u001b[0m\u001b[0;34m,\u001b[0m \u001b[0mkwds\u001b[0m\u001b[0;34m)\u001b[0m\u001b[0;34m\u001b[0m\u001b[0;34m\u001b[0m\u001b[0m\n\u001b[0m\u001b[1;32m    587\u001b[0m \u001b[0;34m\u001b[0m\u001b[0m\n\u001b[1;32m    588\u001b[0m \u001b[0;34m\u001b[0m\u001b[0m\n",
            "\u001b[0;32m/usr/local/lib/python3.8/dist-packages/pandas/io/parsers/readers.py\u001b[0m in \u001b[0;36m_read\u001b[0;34m(filepath_or_buffer, kwds)\u001b[0m\n\u001b[1;32m    480\u001b[0m \u001b[0;34m\u001b[0m\u001b[0m\n\u001b[1;32m    481\u001b[0m     \u001b[0;31m# Create the parser.\u001b[0m\u001b[0;34m\u001b[0m\u001b[0;34m\u001b[0m\u001b[0;34m\u001b[0m\u001b[0m\n\u001b[0;32m--> 482\u001b[0;31m     \u001b[0mparser\u001b[0m \u001b[0;34m=\u001b[0m \u001b[0mTextFileReader\u001b[0m\u001b[0;34m(\u001b[0m\u001b[0mfilepath_or_buffer\u001b[0m\u001b[0;34m,\u001b[0m \u001b[0;34m**\u001b[0m\u001b[0mkwds\u001b[0m\u001b[0;34m)\u001b[0m\u001b[0;34m\u001b[0m\u001b[0;34m\u001b[0m\u001b[0m\n\u001b[0m\u001b[1;32m    483\u001b[0m \u001b[0;34m\u001b[0m\u001b[0m\n\u001b[1;32m    484\u001b[0m     \u001b[0;32mif\u001b[0m \u001b[0mchunksize\u001b[0m \u001b[0;32mor\u001b[0m \u001b[0miterator\u001b[0m\u001b[0;34m:\u001b[0m\u001b[0;34m\u001b[0m\u001b[0;34m\u001b[0m\u001b[0m\n",
            "\u001b[0;32m/usr/local/lib/python3.8/dist-packages/pandas/io/parsers/readers.py\u001b[0m in \u001b[0;36m__init__\u001b[0;34m(self, f, engine, **kwds)\u001b[0m\n\u001b[1;32m    809\u001b[0m             \u001b[0mself\u001b[0m\u001b[0;34m.\u001b[0m\u001b[0moptions\u001b[0m\u001b[0;34m[\u001b[0m\u001b[0;34m\"has_index_names\"\u001b[0m\u001b[0;34m]\u001b[0m \u001b[0;34m=\u001b[0m \u001b[0mkwds\u001b[0m\u001b[0;34m[\u001b[0m\u001b[0;34m\"has_index_names\"\u001b[0m\u001b[0;34m]\u001b[0m\u001b[0;34m\u001b[0m\u001b[0;34m\u001b[0m\u001b[0m\n\u001b[1;32m    810\u001b[0m \u001b[0;34m\u001b[0m\u001b[0m\n\u001b[0;32m--> 811\u001b[0;31m         \u001b[0mself\u001b[0m\u001b[0;34m.\u001b[0m\u001b[0m_engine\u001b[0m \u001b[0;34m=\u001b[0m \u001b[0mself\u001b[0m\u001b[0;34m.\u001b[0m\u001b[0m_make_engine\u001b[0m\u001b[0;34m(\u001b[0m\u001b[0mself\u001b[0m\u001b[0;34m.\u001b[0m\u001b[0mengine\u001b[0m\u001b[0;34m)\u001b[0m\u001b[0;34m\u001b[0m\u001b[0;34m\u001b[0m\u001b[0m\n\u001b[0m\u001b[1;32m    812\u001b[0m \u001b[0;34m\u001b[0m\u001b[0m\n\u001b[1;32m    813\u001b[0m     \u001b[0;32mdef\u001b[0m \u001b[0mclose\u001b[0m\u001b[0;34m(\u001b[0m\u001b[0mself\u001b[0m\u001b[0;34m)\u001b[0m\u001b[0;34m:\u001b[0m\u001b[0;34m\u001b[0m\u001b[0;34m\u001b[0m\u001b[0m\n",
            "\u001b[0;32m/usr/local/lib/python3.8/dist-packages/pandas/io/parsers/readers.py\u001b[0m in \u001b[0;36m_make_engine\u001b[0;34m(self, engine)\u001b[0m\n\u001b[1;32m   1038\u001b[0m             )\n\u001b[1;32m   1039\u001b[0m         \u001b[0;31m# error: Too many arguments for \"ParserBase\"\u001b[0m\u001b[0;34m\u001b[0m\u001b[0;34m\u001b[0m\u001b[0;34m\u001b[0m\u001b[0m\n\u001b[0;32m-> 1040\u001b[0;31m         \u001b[0;32mreturn\u001b[0m \u001b[0mmapping\u001b[0m\u001b[0;34m[\u001b[0m\u001b[0mengine\u001b[0m\u001b[0;34m]\u001b[0m\u001b[0;34m(\u001b[0m\u001b[0mself\u001b[0m\u001b[0;34m.\u001b[0m\u001b[0mf\u001b[0m\u001b[0;34m,\u001b[0m \u001b[0;34m**\u001b[0m\u001b[0mself\u001b[0m\u001b[0;34m.\u001b[0m\u001b[0moptions\u001b[0m\u001b[0;34m)\u001b[0m  \u001b[0;31m# type: ignore[call-arg]\u001b[0m\u001b[0;34m\u001b[0m\u001b[0;34m\u001b[0m\u001b[0m\n\u001b[0m\u001b[1;32m   1041\u001b[0m \u001b[0;34m\u001b[0m\u001b[0m\n\u001b[1;32m   1042\u001b[0m     \u001b[0;32mdef\u001b[0m \u001b[0m_failover_to_python\u001b[0m\u001b[0;34m(\u001b[0m\u001b[0mself\u001b[0m\u001b[0;34m)\u001b[0m\u001b[0;34m:\u001b[0m\u001b[0;34m\u001b[0m\u001b[0;34m\u001b[0m\u001b[0m\n",
            "\u001b[0;32m/usr/local/lib/python3.8/dist-packages/pandas/io/parsers/c_parser_wrapper.py\u001b[0m in \u001b[0;36m__init__\u001b[0;34m(self, src, **kwds)\u001b[0m\n\u001b[1;32m     49\u001b[0m \u001b[0;34m\u001b[0m\u001b[0m\n\u001b[1;32m     50\u001b[0m         \u001b[0;31m# open handles\u001b[0m\u001b[0;34m\u001b[0m\u001b[0;34m\u001b[0m\u001b[0;34m\u001b[0m\u001b[0m\n\u001b[0;32m---> 51\u001b[0;31m         \u001b[0mself\u001b[0m\u001b[0;34m.\u001b[0m\u001b[0m_open_handles\u001b[0m\u001b[0;34m(\u001b[0m\u001b[0msrc\u001b[0m\u001b[0;34m,\u001b[0m \u001b[0mkwds\u001b[0m\u001b[0;34m)\u001b[0m\u001b[0;34m\u001b[0m\u001b[0;34m\u001b[0m\u001b[0m\n\u001b[0m\u001b[1;32m     52\u001b[0m         \u001b[0;32massert\u001b[0m \u001b[0mself\u001b[0m\u001b[0;34m.\u001b[0m\u001b[0mhandles\u001b[0m \u001b[0;32mis\u001b[0m \u001b[0;32mnot\u001b[0m \u001b[0;32mNone\u001b[0m\u001b[0;34m\u001b[0m\u001b[0;34m\u001b[0m\u001b[0m\n\u001b[1;32m     53\u001b[0m \u001b[0;34m\u001b[0m\u001b[0m\n",
            "\u001b[0;32m/usr/local/lib/python3.8/dist-packages/pandas/io/parsers/base_parser.py\u001b[0m in \u001b[0;36m_open_handles\u001b[0;34m(self, src, kwds)\u001b[0m\n\u001b[1;32m    220\u001b[0m         \u001b[0mLet\u001b[0m \u001b[0mthe\u001b[0m \u001b[0mreaders\u001b[0m \u001b[0mopen\u001b[0m \u001b[0mIOHandles\u001b[0m \u001b[0mafter\u001b[0m \u001b[0mthey\u001b[0m \u001b[0mare\u001b[0m \u001b[0mdone\u001b[0m \u001b[0;32mwith\u001b[0m \u001b[0mtheir\u001b[0m \u001b[0mpotential\u001b[0m \u001b[0mraises\u001b[0m\u001b[0;34m.\u001b[0m\u001b[0;34m\u001b[0m\u001b[0;34m\u001b[0m\u001b[0m\n\u001b[1;32m    221\u001b[0m         \"\"\"\n\u001b[0;32m--> 222\u001b[0;31m         self.handles = get_handle(\n\u001b[0m\u001b[1;32m    223\u001b[0m             \u001b[0msrc\u001b[0m\u001b[0;34m,\u001b[0m\u001b[0;34m\u001b[0m\u001b[0;34m\u001b[0m\u001b[0m\n\u001b[1;32m    224\u001b[0m             \u001b[0;34m\"r\"\u001b[0m\u001b[0;34m,\u001b[0m\u001b[0;34m\u001b[0m\u001b[0;34m\u001b[0m\u001b[0m\n",
            "\u001b[0;32m/usr/local/lib/python3.8/dist-packages/pandas/io/common.py\u001b[0m in \u001b[0;36mget_handle\u001b[0;34m(path_or_buf, mode, encoding, compression, memory_map, is_text, errors, storage_options)\u001b[0m\n\u001b[1;32m    700\u001b[0m         \u001b[0;32mif\u001b[0m \u001b[0mioargs\u001b[0m\u001b[0;34m.\u001b[0m\u001b[0mencoding\u001b[0m \u001b[0;32mand\u001b[0m \u001b[0;34m\"b\"\u001b[0m \u001b[0;32mnot\u001b[0m \u001b[0;32min\u001b[0m \u001b[0mioargs\u001b[0m\u001b[0;34m.\u001b[0m\u001b[0mmode\u001b[0m\u001b[0;34m:\u001b[0m\u001b[0;34m\u001b[0m\u001b[0;34m\u001b[0m\u001b[0m\n\u001b[1;32m    701\u001b[0m             \u001b[0;31m# Encoding\u001b[0m\u001b[0;34m\u001b[0m\u001b[0;34m\u001b[0m\u001b[0;34m\u001b[0m\u001b[0m\n\u001b[0;32m--> 702\u001b[0;31m             handle = open(\n\u001b[0m\u001b[1;32m    703\u001b[0m                 \u001b[0mhandle\u001b[0m\u001b[0;34m,\u001b[0m\u001b[0;34m\u001b[0m\u001b[0;34m\u001b[0m\u001b[0m\n\u001b[1;32m    704\u001b[0m                 \u001b[0mioargs\u001b[0m\u001b[0;34m.\u001b[0m\u001b[0mmode\u001b[0m\u001b[0;34m,\u001b[0m\u001b[0;34m\u001b[0m\u001b[0;34m\u001b[0m\u001b[0m\n",
            "\u001b[0;31mFileNotFoundError\u001b[0m: [Errno 2] No such file or directory: 'pps_accuracy_NoDAvsDA.csv'"
          ]
        }
      ],
      "source": [
        "#from sklearn.datasets import load_iris\n",
        "import pandas as pd\n",
        "import seaborn as sns\n",
        "import matplotlib.pyplot as plt\n",
        "\n",
        "sns.set_theme()\n",
        "\n",
        "#data = load_iris(as_frame=True)\n",
        "data_NoDAvsDA   = pd.read_csv('pps_accuracy_NoDAvsDA.csv', sep=';' )\n",
        "data_backbones = pd.read_csv('pps_accuracy_backbones.csv', sep=';' )\n",
        "data_per_pps_number = pd.read_csv('pps_accuracy_per_pps_number.csv', sep=';' )\n",
        "\n",
        "#df = data.data\n",
        "#df.head()"
      ]
    },
    {
      "cell_type": "code",
      "source": [
        "data_NoDAvsDA"
      ],
      "metadata": {
        "id": "ha6X-MMKyhLm"
      },
      "execution_count": null,
      "outputs": []
    },
    {
      "cell_type": "code",
      "source": [
        "#data_NoDAvsDA.info()\n",
        "#data_NoDAvsDA.dtypes\n",
        "#data_NoDAvsDA.astype('int32').dtypes\n",
        "data_NoDAvsDA.rename(columns={\"NoDa\":'No Data Augmentation'}, inplace=True)\n",
        "data_NoDAvsDA.rename(columns={\"DA\":  'With Data Augmentation'}, inplace=True)"
      ],
      "metadata": {
        "id": "GJXWrQE500Bf"
      },
      "execution_count": null,
      "outputs": []
    },
    {
      "cell_type": "code",
      "source": [
        "# iterating the columns\n",
        "for col in data_NoDAvsDA.columns:\n",
        "    print(col)"
      ],
      "metadata": {
        "id": "Mwr8mu5pDu5g"
      },
      "execution_count": null,
      "outputs": []
    },
    {
      "cell_type": "code",
      "source": [
        "sns.boxplot(data=data_NoDAvsDA[['No Data Augmentation','With Data Augmentation']])"
      ],
      "metadata": {
        "id": "7Y7IAzkGFzjA"
      },
      "execution_count": null,
      "outputs": []
    },
    {
      "cell_type": "code",
      "source": [
        "#sns.color_palette(\"hls\", 8)\n",
        "plt.figure(figsize=(4,6))\n",
        "#boxplot = sns.boxplot(x=\"variable\", y=\"value\", data=pd.melt(data_NoDAvsDA))\n",
        "boxplot = sns.boxplot(data=data_NoDAvsDA[['No Data Augmentation','With Data Augmentation']], saturation=0.65, palette='husl', width=0.4, fliersize= 0) #boxprops={'facecolor':(.4, .6, .8, .5)},  boxprops=dict(alpha=.3)\n",
        "for patch in boxplot.artists:\n",
        "    r, g, b, a = patch.get_facecolor()\n",
        "    patch.set_facecolor((r, g, b, .6))\n",
        "\n",
        "\n",
        "boxplot = sns.stripplot(data=data_NoDAvsDA[['No Data Augmentation','With Data Augmentation']], marker=\"o\", size=7, alpha=1.0, palette='husl')  #\"hls\")#color=\"black\") #Spectral\n",
        "#boxplot.axes.set_title(\"Training with different Data Augmentation regimes\", fontsize=14)\n",
        "#boxplot.set_xlabel(\"Features\", fontsize=14)\n",
        "boxplot.set_ylabel(\"Average Accuracy\", fontsize=14)\n",
        "plt.savefig('pps_accuracy_NoDAvsDA.png', bbox_inches='tight', pad_inches=0.1)\n",
        "plt.show()"
      ],
      "metadata": {
        "id": "xO3SBDIUwed-"
      },
      "execution_count": null,
      "outputs": []
    },
    {
      "cell_type": "code",
      "source": [
        "data_backbones"
      ],
      "metadata": {
        "id": "_ZyEYAUncXli"
      },
      "execution_count": null,
      "outputs": []
    },
    {
      "cell_type": "code",
      "source": [
        "#data_backbones = pd.read_csv('pps_accuracy_backbones.csv', sep=';' )\n",
        "#data_per_pps_number = pd.read_csv('pps_accuracy_per_pps_number.csv', sep=';' )\n",
        "\n",
        "#sns.color_palette(\"hls\", 8)\n",
        "plt.figure(figsize=(4,6))\n",
        "#boxplot = sns.boxplot(x=\"variable\", y=\"value\", data=pd.melt(data_NoDAvsDA))\n",
        "boxplot = sns.boxplot(data=data_backbones[['DenseNet201','ResNet50', 'Vgg16']], saturation=0.65, palette='husl', width=0.4, fliersize= 0) # palette='husl' palette='Spectral' #boxprops={'facecolor':(.4, .6, .8, .5)},  boxprops=dict(alpha=.3)\n",
        "for patch in boxplot.artists:\n",
        "    r, g, b, a = patch.get_facecolor()\n",
        "    patch.set_facecolor((r, g, b, .6))\n",
        "\n",
        "boxplot = sns.stripplot(data=data_backbones[['DenseNet201','ResNet50', 'Vgg16']], marker=\"o\", size=7, alpha=1.0, palette='husl')  #\"hls\")#color=\"black\") #Spectral\n",
        "#boxplot.axes.set_title(\"ProtoPNet Accuracy  per Backbone\", fontsize=14)\n",
        "#boxplot.set_xlabel(\"Features\", fontsize=14)\n",
        "boxplot.set_ylabel(\"Average Accuracy\", fontsize=14)\n",
        "plt.savefig('Accuracy_per_Backbone.png', bbox_inches='tight', pad_inches=0.1)\n",
        "plt.show()"
      ],
      "metadata": {
        "id": "09wnhuabyTiT"
      },
      "execution_count": null,
      "outputs": []
    },
    {
      "cell_type": "code",
      "source": [
        "data_per_pps_number"
      ],
      "metadata": {
        "id": "XkVH9LifQ5-n"
      },
      "execution_count": null,
      "outputs": []
    },
    {
      "cell_type": "code",
      "source": [
        "data_per_pps_number = data_per_pps_number.drop(columns= [\"100 pp\"])\n",
        "data_per_pps_number"
      ],
      "metadata": {
        "id": "ZZTGS3S6pUOi"
      },
      "execution_count": null,
      "outputs": []
    },
    {
      "cell_type": "code",
      "source": [
        "#data_backbones = pd.read_csv('pps_accuracy_backbones.csv', sep=';' )\n",
        "#data_per_pps_number = pd.read_csv('pps_accuracy_per_pps_number.csv', sep=';' )\n",
        "\n",
        "#sns.color_palette(\"hls\", 8)\n",
        "plt.figure(figsize=(5,6))\n",
        "#plt.plot([-1, 5], [0.85, 0.85]) # plt.plot([x1, x2], [y, y]) # this line of code adds a horizontal solid line on the boxplot \n",
        "#plt.axhline(y=0.91, color='#00f7ff', linewidth=1.35)\n",
        "plt.axhline(y=0.85, color='#ff3300', linestyle='--', linewidth=1.35, label='Avg. Baseline Accuracy Value')\n",
        "#plt.axhline(y=0.82, color='#00f7ff', linestyle='solid', linewidth=.85, label='Avg. Baseline Accuracy Value')\n",
        "\n",
        "#boxplot = sns.boxplot(x=\"variable\", y=\"value\", data=pd.melt(data_NoDAvsDA))\n",
        "boxplot = sns.boxplot(data=data_per_pps_number[['1 pp','3 pp', '10 pp', '50 pp']], saturation=0.65, palette='husl', width=0.4, fliersize= 0) #boxprops={'facecolor':(.4, .6, .8, .5)},  boxprops=dict(alpha=.3)\n",
        "for patch in boxplot.artists:\n",
        "    r, g, b, a = patch.get_facecolor()\n",
        "    patch.set_facecolor((r, g, b, .6))\n",
        "\n",
        "boxplot = sns.stripplot(data=data_per_pps_number[['1 pp','3 pp', '10 pp', '50 pp']], marker=\"o\", size=7, alpha=1.0, palette='husl')  #\"hls\")#color=\"black\") #Spectral\n",
        "#boxplot.axes.set_title(\"Accuracy per numberof PPs\", fontsize=14)\n",
        "#boxplot.set_xlabel(\"Features\", fontsize=14)\n",
        "boxplot.set_ylabel(\"Average Accuracy\", fontsize=14)\n",
        "plt.legend(bbox_to_anchor=(0.31, 1.0), loc=2, borderaxespad=0.0, framealpha=1, facecolor ='white', frameon=True) # adds the label box for the \"Avg. Baseline Accuracy Value\" dashed line\n",
        "plt.savefig(\"Accuracy_per_pps_numbers.pdf\", format=\"pdf\", bbox_inches=\"tight\")\n",
        "#plt.savefig('Accuracy_per_pps_numbers.png', bbox_inches='tight', pad_inches=0.1)\n",
        "plt.show()"
      ],
      "metadata": {
        "id": "Egoy4YV5Q0EZ"
      },
      "execution_count": null,
      "outputs": []
    },
    {
      "cell_type": "code",
      "source": [
        "#data_backbones = pd.read_csv('pps_accuracy_backbones.csv', sep=';' )\n",
        "#data_per_pps_number = pd.read_csv('pps_accuracy_per_pps_number.csv', sep=';' )\n",
        "\n",
        "#sns.color_palette(\"hls\", 8)\n",
        "plt.figure(figsize=(5,6))\n",
        "#plt.plot([-1, 5], [0.85, 0.85]) # plt.plot([x1, x2], [y, y]) # this line of code adds a horizontal solid line on the boxplot \n",
        "#plt.axhline(y=0.91, color='#00f7ff', linewidth=1.35)\n",
        "plt.vlines(x=0.85, ymin=0, ymax=6, color='#ff3300', linestyle='--', linewidth=1.35)\n",
        "#plt.axhline(y=0.82, color='#00f7ff', linestyle='solid', linewidth=.85, label='Avg. Baseline Accuracy Value')\n",
        "\n",
        "#boxplot = sns.boxplot(x=\"variable\", y=\"value\", data=pd.melt(data_NoDAvsDA))\n",
        "#data_per_pps_number_2 = data_per_pps_number.T.boxplot(vert=False)\n",
        "boxplot = sns.boxplot(data=data_per_pps_number_2[['1 pp','3 pp', '10 pp', '50 pp']], saturation=0.65, palette='husl', width=0.4, fliersize= 0) #boxprops={'facecolor':(.4, .6, .8, .5)},  boxprops=dict(alpha=.3)\n",
        "for patch in boxplot.artists:\n",
        "    r, g, b, a = patch.get_facecolor()\n",
        "    patch.set_facecolor((r, g, b, .6))\n",
        "\n",
        "boxplot = sns.stripplot(data=data_per_pps_number[['1 pp','3 pp', '10 pp', '50 pp']], marker=\"o\", size=7, alpha=1.0, palette='husl')  #\"hls\")#color=\"black\") #Spectral\n",
        "#boxplot.axes.set_title(\"Accuracy per numberof PPs\", fontsize=14)\n",
        "#boxplot.set_xlabel(\"Features\", fontsize=14)\n",
        "boxplot.set_ylabel(\"Average Accuracy\", fontsize=14)\n",
        "plt.legend(bbox_to_anchor=(0.31, 1.0), loc=2, borderaxespad=0.0, framealpha=1, facecolor ='white', frameon=True) # adds the label box for the \"Avg. Baseline Accuracy Value\" dashed line\n",
        "plt.savefig(\"Accuracy_per_pps_numbers.pdf\", format=\"pdf\", bbox_inches=\"tight\")\n",
        "#plt.savefig('Accuracy_per_pps_numbers.png', bbox_inches='tight', pad_inches=0.1)\n",
        "plt.show()"
      ],
      "metadata": {
        "id": "Brs2vxKAkLDE"
      },
      "execution_count": null,
      "outputs": []
    },
    {
      "cell_type": "code",
      "source": [
        "## Original reference code to plot Iris dataset plots\n",
        "\"\"\"\n",
        "plt.figure(figsize=(10,15))\n",
        "boxplot = sns.boxplot(x=\"variable\", y=\"value\", data=pd.melt(datdata_per_pps_numbera_NoDAvsDA))\n",
        "boxplot = sns.stripplot(x=\"variable\", y=\"value\", data=pd.melt(data_per_pps_number), marker=\"o\", alpha=0.2, color=\"black\")\n",
        "boxplot.axes.set_title(\"Iris BoxPlot\", fontsize=16)\n",
        "boxplot.set_xlabel(\"Features\", fontsize=14)\n",
        "boxplot.set_ylabel(\"Distribution\", fontsize=14)\n",
        "plt.savefig('data_per_pps_number.png')\n",
        "plt.show()\n",
        "#\"\"\""
      ],
      "metadata": {
        "id": "XHzXZAdpyT0K"
      },
      "execution_count": null,
      "outputs": []
    },
    {
      "cell_type": "markdown",
      "source": [
        "# Test Local Descriptors"
      ],
      "metadata": {
        "id": "gGQIQbOjzi6f"
      }
    },
    {
      "cell_type": "code",
      "execution_count": null,
      "metadata": {
        "id": "3kmWbzQlzgsF"
      },
      "outputs": [],
      "source": [
        "#from sklearn.datasets import load_iris\n",
        "import pandas as pd\n",
        "import seaborn as sns\n",
        "import matplotlib.pyplot as plt\n",
        "import numpy as np\n",
        "\n",
        "\n",
        "sns.set_theme()\n",
        "\n",
        "# DenseNet201_JE_6c_Mix_w256_run1_015_003pps_OsDAtestset_local_descriptors_score_0.45_0.7_0.1_4_0.05_4_0.8.csv\n",
        "# DenseNet201_JE_6c_Mix_w256_run1_015_003pps_OsDAtestset_weighted_global_descriptors_score_0.45_0.7_0.1_4_0.05_4_0.8.csv\n",
        "# DenseNet201_JE_6c_Mix_w256_run1_015_003pps_OsDAtrainingset_local_descriptors_score_0.45_0.7_0.1_4_0.05_4_0.8.csv\n",
        "# DenseNet201_JE_6c_Mix_w256_run1_015_003pps_OsDAtrainingset_weighted_global_descriptors_score_0.45_0.7_0.1_4_0.05_4_0.8.csv\n",
        "\n",
        "#data = load_iris(as_frame=True)      \n",
        "Test_Local_descriptors   = pd.read_csv('DenseNet201_JE_6c_Mix_w256_run1_015_003pps_OsDAtestset_local_descriptors_score_0.45_0.7_0.1_4_0.05_4_0.8.csv', sep=',' )\n",
        "#Test_Global_descriptors  = pd.read_csv('DenseNet201_JE_6c_Mix_w256_003pps_OsDAtestset_weighted_global_descriptors_score_0.45_0.7_0.1_4_0.05_4_0.8.csv', sep=',' )\n",
        "\n",
        "#Train_Local_descriptors  = pd.read_csv('DenseNet201_JE_6c_Mix_w256_003pps_OsDAtrainingset_local_descriptors_score_0.45_0.7_0.1_4_0.05_4_0.8.csv', sep=',' )\n",
        "#Train_Global_descriptors = pd.read_csv('DenseNet201_JE_6c_Mix_w256_003pps_OsDAtrainingset_weighted_global_descriptors_score_0.45_0.7_0.1_4_0.05_4_0.8.csv' , sep=',' )\n",
        "\n",
        "#df = data.data\n",
        "#df.head()"
      ]
    },
    {
      "cell_type": "code",
      "source": [
        "Test_Local_descriptors"
      ],
      "metadata": {
        "id": "z3ilTuFb0Rw9"
      },
      "execution_count": null,
      "outputs": []
    },
    {
      "cell_type": "code",
      "source": [
        "#create boxplot\n",
        "#boxplot = Test_Local_descriptors.boxplot(figsize = (5,5))  #column = None by= None, ax= None, fontsize= None, rot= 0, grid:bool = True, figsize = (5,5), layout = None, return_type= None, backend= None, **kwargs)\n",
        "boxplot = Test_Local_descriptors.boxplot(column = 'delta',  by= 'modification', fontsize= 12, rot= 45, figsize = (10,5) )#, grid:bool = True, ax= None, layout = None, return_type= None, backend= None, **kwargs)"
      ],
      "metadata": {
        "id": "p12rInwbuQKY"
      },
      "execution_count": null,
      "outputs": []
    },
    {
      "cell_type": "code",
      "source": [
        "#boxplot = Test_Local_descriptors.boxplot(column = 'delta',  by= 'modification', fontsize= 12, rot= 45, figsize = (10,5) )#, grid:bool = True, ax= None, layout = None, return_type= None, backend= None, **kwargs)\n",
        "#\n",
        "#sns.color_palette(\"hls\", 8)\n",
        "plt.figure(figsize=(8,4))\n",
        "#plt.plot([-1, 5], [0.85, 0.85]) # plt.plot([x1, x2], [y, y]) # this line of code adds a horizontal solid line on the boxplot \n",
        "#plt.axhline(y=0.91, color='#00f7ff', linewidth=1.35)\n",
        "##plt.axhline(y=0.85, color='#ff3300', linestyle='--', linewidth=1.35, label='Avg. Baseline Accuracy Value')\n",
        "#plt.axhline(y=0.82, color='#00f7ff', linestyle='solid', linewidth=.85, label='Avg. Baseline Accuracy Value')\n",
        "\n",
        "#boxplot = sns.boxplot(x=\"variable\", y=\"value\", data=pd.melt(data_NoDAvsDA))\n",
        "boxplot = sns.boxplot(x=\"modification\", y=\"delta\", data=Test_Local_descriptors, saturation=1.0, palette='husl', width=0.4, fliersize= 0) #boxprops={'facecolor':(.4, .6, .8, .5)},  boxprops=dict(alpha=.3)\n",
        "for patch in boxplot.artists:\n",
        "    r, g, b, a = patch.get_facecolor()\n",
        "    patch.set_facecolor((r, g, b, .6))\n",
        "\n",
        "boxplot = sns.stripplot(x=\"modification\", y=\"delta\", data=Test_Local_descriptors, marker=\"o\", size=1, alpha=0.30, palette='husl')  #\"hls\")#color=\"black\") #Spectral\n",
        "boxplot.axes.set_title(\"Descriptors for Test Images\", fontsize=14)\n",
        "#boxplot.set_xlabel(\"Features\", fontsize=14)\n",
        "boxplot.set(xlabel=None)\n",
        "# Rotate the labels by 45 degrees\n",
        "boxplot.set_xticklabels(boxplot.get_xticklabels(), rotation=45)\n",
        "boxplot.tick_params(labelsize=12)\n",
        "boxplot.set_ylabel(\"PPs delta (Descriptor Activation)\", fontsize=12)\n",
        "#plt.legend(bbox_to_anchor=(0.31, 1.0), loc=2, borderaxespad=0.0, framealpha=1, facecolor ='white', frameon=True) # adds the label box for the \"Avg. Baseline Accuracy Value\" dashed line\n",
        "plt.savefig(\"Descriptors_for_Test_Images.pdf\", format=\"pdf\", bbox_inches=\"tight\")\n",
        "#plt.savefig('Accuracy_per_pps_numbers.png', bbox_inches='tight', pad_inches=0.1)\n",
        "plt.show()"
      ],
      "metadata": {
        "id": "TUYzXKw8EjJI"
      },
      "execution_count": null,
      "outputs": []
    },
    {
      "cell_type": "code",
      "source": [
        "# Group the data by 'modification' and get the mean 'delta' value of each modification category\n",
        "mean_values = Test_Local_descriptors.groupby('modification')['delta'].mean()\n",
        "# Print the resulting Series\n",
        "print(mean_values)"
      ],
      "metadata": {
        "id": "-9PXcFxkE4Qm"
      },
      "execution_count": null,
      "outputs": []
    },
    {
      "cell_type": "code",
      "source": [
        "# Convert the 'mean_values' Series into a DataFrame and rename the columns\n",
        "mean_Descriptors_values_df = mean_values.reset_index().rename(columns={'modification': 'Modification', 'delta': 'Mean PPs delta (Descriptor Activation)'})\n",
        "\n",
        "# Create a bar chart\n",
        "sns.barplot(x='Modification', y='Mean PPs delta (Descriptor Activation)', data=mean_Descriptors_values_df, hue='Modification', palette='husl')\n",
        "# Show the plot\n",
        "plt.show()\n",
        "# Print the resulting DataFrame\n",
        "print(mean_Descriptors_values_df)\n",
        "# Print the main statistical values of the different Descriptors (deltas of PPs activations for the used modifications on the input images) \n",
        "#print(mean_Descriptors_values_df.describe())"
      ],
      "metadata": {
        "id": "YFHB5rBTKeDl"
      },
      "execution_count": null,
      "outputs": []
    },
    {
      "cell_type": "code",
      "source": [
        "# Get the maximum value of 'delta' \n",
        "max_test_delta = Test_Local_descriptors['delta'].max()\n",
        "\n",
        "# Divide 'normalized_modifiers' by the maximum value for each group\n",
        "Test_Local_descriptors['normalized_modifiers'] = Test_Local_descriptors['delta'] / max_test_delta"
      ],
      "metadata": {
        "id": "z5aN3YkHbv1V"
      },
      "execution_count": null,
      "outputs": []
    },
    {
      "cell_type": "code",
      "source": [
        "#boxplot = Test_Local_descriptors.boxplot(column = 'delta',  by= 'modification', fontsize= 12, rot= 45, figsize = (10,5) )#, grid:bool = True, ax= None, layout = None, return_type= None, backend= None, **kwargs)\n",
        "#\n",
        "#sns.color_palette(\"hls\", 8)\n",
        "plt.figure(figsize=(8,4))\n",
        "#plt.plot([-1, 5], [0.85, 0.85]) # plt.plot([x1, x2], [y, y]) # this line of code adds a horizontal solid line on the boxplot \n",
        "#plt.axhline(y=0.91, color='#00f7ff', linewidth=1.35)\n",
        "##plt.axhline(y=0.85, color='#ff3300', linestyle='--', linewidth=1.35, label='Avg. Baseline Accuracy Value')\n",
        "#plt.axhline(y=0.82, color='#00f7ff', linestyle='solid', linewidth=.85, label='Avg. Baseline Accuracy Value')\n",
        "\n",
        "#boxplot = sns.boxplot(x=\"variable\", y=\"value\", data=pd.melt(data_NoDAvsDA))\n",
        "boxplot = sns.boxplot(x=\"modification\", y=\"normalized_modifiers\", data=Test_Local_descriptors, saturation=1.0, palette='husl', width=0.4, fliersize= 0) #boxprops={'facecolor':(.4, .6, .8, .5)},  boxprops=dict(alpha=.3)\n",
        "for patch in boxplot.artists:\n",
        "    r, g, b, a = patch.get_facecolor()\n",
        "    patch.set_facecolor((r, g, b, .6))\n",
        "\n",
        "boxplot = sns.stripplot(x=\"modification\", y=\"normalized_modifiers\", data=Test_Local_descriptors, marker=\"o\", size=1, alpha=0.30, palette='husl')  #\"hls\")#color=\"black\") #Spectral\n",
        "boxplot.axes.set_title(\"Normalized Descriptors for Test Images\", fontsize=14)\n",
        "boxplot.set(xlabel=None)\n",
        "# Rotate the labels by 45 degrees\n",
        "boxplot.set_xticklabels(boxplot.get_xticklabels(), rotation=45)\n",
        "boxplot.tick_params(labelsize=12)\n",
        "#boxplot.set_xlabel(\"Features\", fontsize=14)\n",
        "boxplot.set_ylabel(\"PPs delta (Descriptor Activation)\", fontsize=12)\n",
        "#plt.legend(bbox_to_anchor=(0.31, 1.0), loc=2, borderaxespad=0.0, framealpha=1, facecolor ='white', frameon=True) # adds the label box for the \"Avg. Baseline Accuracy Value\" dashed line\n",
        "plt.savefig(\"Normalized_Descriptors_for_Test_Images.pdf\", format=\"pdf\", bbox_inches=\"tight\")\n",
        "#plt.savefig('Accuracy_per_pps_numbers.png', bbox_inches='tight', pad_inches=0.1)\n",
        "plt.show()"
      ],
      "metadata": {
        "id": "VsdBC4juedtA"
      },
      "execution_count": null,
      "outputs": []
    },
    {
      "cell_type": "markdown",
      "source": [
        "# Test Global Descriptors"
      ],
      "metadata": {
        "id": "yLqAQ29jfC9y"
      }
    },
    {
      "cell_type": "code",
      "execution_count": null,
      "metadata": {
        "id": "lCJzXpzbfPZm"
      },
      "outputs": [],
      "source": [
        "#from sklearn.datasets import load_iris\n",
        "import pandas as pd\n",
        "import seaborn as sns\n",
        "import matplotlib.pyplot as plt\n",
        "import numpy as np\n",
        "\n",
        "\n",
        "sns.set_theme()\n",
        "\n",
        "#data = load_iris(as_frame=True)\n",
        "#Test_Local_descriptors   = pd.read_csv('DenseNet201_JE_6c_Mix_w256_003pps_OsDAtestset_local_descriptors_score_0.45_0.7_0.1_4_0.05_4_0.8.csv', sep=',' )\n",
        "Test_Global_descriptors  = pd.read_csv('DenseNet201_JE_6c_Mix_w256_003pps_OsDAtestset_weighted_global_descriptors_score_0.45_0.7_0.1_4_0.05_4_0.8.csv', sep=',' )\n",
        "\n",
        "#Train_Local_descriptors  = pd.read_csv('DenseNet201_JE_6c_Mix_w256_003pps_OsDAtrainingset_local_descriptors_score_0.45_0.7_0.1_4_0.05_4_0.8.csv', sep=',' )\n",
        "Train_Global_descriptors = pd.read_csv( 'DenseNet201_JE_6c_Mix_w256_003pps_OsDAtrainingset_weighted_global_descriptors_score_0.45_0.7_0.1_4_0.05_4_0.8.csv' , sep=',' )\n",
        "\n",
        "#df = data.data\n",
        "#df.head()\n"
      ]
    },
    {
      "cell_type": "code",
      "source": [
        "Train_Global_descriptors['modification']"
      ],
      "metadata": {
        "id": "yBErBtRs5re0"
      },
      "execution_count": null,
      "outputs": []
    },
    {
      "cell_type": "code",
      "source": [
        "Train_Global_descriptors['modification'] = Train_Global_descriptors['modification'].map({'brightness':'Brightness', 'contrast':'Contrast', 'hue':'Hue', 'saturation':'Saturation', 'shape':'Shape', 'texture':'Texture'})\n",
        "Train_Global_descriptors['modification']"
      ],
      "metadata": {
        "id": "5YmRrMzP5PWm"
      },
      "execution_count": null,
      "outputs": []
    },
    {
      "cell_type": "code",
      "source": [
        "Test_Global_descriptors"
      ],
      "metadata": {
        "id": "kwMYFXIQfsaX"
      },
      "execution_count": null,
      "outputs": []
    },
    {
      "cell_type": "code",
      "source": [
        "#sns.color_palette(\"hls\", 8)\n",
        "plt.figure(figsize=(8,4))\n",
        "#plt.plot([-1, 5], [0.85, 0.85]) # plt.plot([x1, x2], [y, y]) # this line of code adds a horizontal solid line on the boxplot \n",
        "#plt.axhline(y=0.91, color='#00f7ff', linewidth=1.35)\n",
        "##plt.axhline(y=0.85, color='#ff3300', linestyle='--', linewidth=1.35, label='Avg. Baseline Accuracy Value')\n",
        "#plt.axhline(y=0.82, color='#00f7ff', linestyle='solid', linewidth=.85, label='Avg. Baseline Accuracy Value')\n",
        "\n",
        "#boxplot = sns.boxplot(x=\"variable\", y=\"value\", data=pd.melt(data_NoDAvsDA))\n",
        "boxplot = sns.boxplot(x=\"modification\", y=\"weighted_delta\", data=Test_Global_descriptors, saturation=1.0, palette='husl', width=0.4, fliersize= 0) #boxprops={'facecolor':(.4, .6, .8, .5)},  boxprops=dict(alpha=.3)\n",
        "for patch in boxplot.artists:\n",
        "    r, g, b, a = patch.get_facecolor()\n",
        "    patch.set_facecolor((r, g, b, .6))\n",
        "\n",
        "boxplot = sns.stripplot(x=\"modification\", y=\"weighted_delta\", data=Test_Global_descriptors, marker=\"o\", size=5, alpha=0.90, palette='husl')  #\"hls\")#color=\"black\") #Spectral\n",
        "boxplot.axes.set_title(\"Global Descriptors for Test Images\", fontsize=14)\n",
        "#boxplot.set_xlabel(\"Features\", fontsize=12)\n",
        "boxplot.set(xlabel=None)\n",
        "boxplot.set_ylabel(\"PPs delta (Descriptor Activation)\", fontsize=12)\n",
        "# Rotate the labels by 45 degrees\n",
        "boxplot.set_xticklabels(boxplot.get_xticklabels(), rotation=45)\n",
        "boxplot.tick_params(labelsize=12)\n",
        "#plt.legend(bbox_to_anchor=(0.31, 1.0), loc=2, borderaxespad=0.0, framealpha=1, facecolor ='white', frameon=True) # adds the label box for the \"Avg. Baseline Accuracy Value\" dashed line\n",
        "plt.savefig(\"Global_Descriptors_for_Test_Images.pdf\", format=\"pdf\", bbox_inches=\"tight\")\n",
        "#plt.savefig('Accuracy_per_pps_numbers.png', bbox_inches='tight', pad_inches=0.1)\n",
        "plt.show()"
      ],
      "metadata": {
        "id": "6asD6kYSfPZn"
      },
      "execution_count": null,
      "outputs": []
    },
    {
      "cell_type": "code",
      "source": [
        "# Get the maximum value of 'weighted_delta' \n",
        "max_test_weighted_delta = Test_Global_descriptors['weighted_delta'].max()\n",
        "\n",
        "# Divide 'modifiers' by the maximum value of 'weighted_delta'\n",
        "Test_Global_descriptors['normalized_modifiers'] = Test_Global_descriptors['weighted_delta'] / max_test_weighted_delta"
      ],
      "metadata": {
        "id": "CCxsKklwgm8H"
      },
      "execution_count": null,
      "outputs": []
    },
    {
      "cell_type": "code",
      "source": [
        "#boxplot = Test_Local_descriptors.boxplot(column = 'delta',  by= 'modification', fontsize= 12, rot= 45, figsize = (10,5) )#, grid:bool = True, ax= None, layout = None, return_type= None, backend= None, **kwargs)\n",
        "#\n",
        "#sns.color_palette(\"hls\", 8)\n",
        "plt.figure(figsize=(8,4))\n",
        "#plt.plot([-1, 5], [0.85, 0.85]) # plt.plot([x1, x2], [y, y]) # this line of code adds a horizontal solid line on the boxplot \n",
        "#plt.axhline(y=0.91, color='#00f7ff', linewidth=1.35)\n",
        "##plt.axhline(y=0.85, color='#ff3300', linestyle='--', linewidth=1.35, label='Avg. Baseline Accuracy Value')\n",
        "#plt.axhline(y=0.82, color='#00f7ff', linestyle='solid', linewidth=.85, label='Avg. Baseline Accuracy Value')\n",
        "\n",
        "#boxplot = sns.boxplot(x=\"variable\", y=\"value\", data=pd.melt(data_NoDAvsDA))\n",
        "boxplot = sns.boxplot(x=\"modification\", y=\"normalized_modifiers\", data=Test_Global_descriptors, saturation=1.0, palette='husl', width=0.4, fliersize= 0) #boxprops={'facecolor':(.4, .6, .8, .5)},  boxprops=dict(alpha=.3)\n",
        "for patch in boxplot.artists:\n",
        "    r, g, b, a = patch.get_facecolor()\n",
        "    patch.set_facecolor((r, g, b, .6))\n",
        "\n",
        "boxplot = sns.stripplot(x=\"modification\", y=\"normalized_modifiers\", data=Test_Global_descriptors, marker=\"o\", size=5, alpha=0.90, palette='husl')  #\"hls\")#color=\"black\") #Spectral\n",
        "boxplot.axes.set_title(\"Normalized Global Descriptors for Test Images\", fontsize=14)\n",
        "#boxplot.set_xlabel(\"Features\", fontsize=14)\n",
        "boxplot.set(xlabel=None)\n",
        "# Rotate the labels by 45 degrees\n",
        "boxplot.set_xticklabels(boxplot.get_xticklabels(), rotation=45)\n",
        "boxplot.tick_params(labelsize=12)\n",
        "boxplot.set_ylabel(\"PPs delta (Descriptor Activation)\", fontsize=12)\n",
        "#plt.legend(bbox_to_anchor=(0.31, 1.0), loc=2, borderaxespad=0.0, framealpha=1, facecolor ='white', frameon=True) # adds the label box for the \"Avg. Baseline Accuracy Value\" dashed line\n",
        "plt.savefig(\"Normalized_Global_Descriptors_for_Test_Images.pdf\", format=\"pdf\", bbox_inches=\"tight\")\n",
        "#plt.savefig('Accuracy_per_pps_numbers.png', bbox_inches='tight', pad_inches=0.1)\n",
        "plt.show()"
      ],
      "metadata": {
        "id": "08yT_V8Qgm8H"
      },
      "execution_count": null,
      "outputs": []
    },
    {
      "cell_type": "markdown",
      "source": [
        "# Train Local Descriptors"
      ],
      "metadata": {
        "id": "5mY7wBDFpIBU"
      }
    },
    {
      "cell_type": "code",
      "execution_count": null,
      "metadata": {
        "id": "Cp4-qt53qBVU"
      },
      "outputs": [],
      "source": [
        "#from sklearn.datasets import load_iris\n",
        "import pandas as pd\n",
        "import seaborn as sns\n",
        "import matplotlib.pyplot as plt\n",
        "import numpy as np\n",
        "\n",
        "\n",
        "sns.set_theme()\n",
        "\n",
        "#data = load_iris(as_frame=True)\n",
        "#Test_Local_descriptors   = pd.read_csv('DenseNet201_JE_6c_Mix_w256_003pps_OsDAtestset_local_descriptors_score_0.45_0.7_0.1_4_0.05_4_0.8.csv', sep=',' )\n",
        "#Test_Global_descriptors  = pd.read_csv('DenseNet201_JE_6c_Mix_w256_003pps_OsDAtestset_weighted_global_descriptors_score_0.45_0.7_0.1_4_0.05_4_0.8.csv', sep=',' )\n",
        "\n",
        "Train_Local_descriptors  = pd.read_csv('DenseNet201_JE_6c_Mix_w256_003pps_OsDAtrainingset_local_descriptors_score_0.45_0.7_0.1_4_0.05_4_0.8.csv', sep=',' )\n",
        "#Train_Global_descriptors = pd.read_csv('DenseNet201_JE_6c_Mix_w256_003pps_OsDAtrainingset_weighted_global_descriptors_score_0.45_0.7_0.1_4_0.05_4_0.8.csv' , sep=',' )\n",
        "\n",
        "#df = data.data\n",
        "#df.head()"
      ]
    },
    {
      "cell_type": "code",
      "source": [
        "Train_Local_descriptors"
      ],
      "metadata": {
        "id": "92k980exqBVU"
      },
      "execution_count": null,
      "outputs": []
    },
    {
      "cell_type": "code",
      "source": [
        "#boxplot = Test_Local_descriptors.boxplot(column = 'delta',  by= 'modification', fontsize= 12, rot= 45, figsize = (10,5) )#, grid:bool = True, ax= None, layout = None, return_type= None, backend= None, **kwargs)\n",
        "#\n",
        "#sns.color_palette(\"hls\", 8)\n",
        "plt.figure(figsize=(8,4))\n",
        "#plt.plot([-1, 5], [0.85, 0.85]) # plt.plot([x1, x2], [y, y]) # this line of code adds a horizontal solid line on the boxplot \n",
        "#plt.axhline(y=0.91, color='#00f7ff', linewidth=1.35)\n",
        "##plt.axhline(y=0.85, color='#ff3300', linestyle='--', linewidth=1.35, label='Avg. Baseline Accuracy Value')\n",
        "#plt.axhline(y=0.82, color='#00f7ff', linestyle='solid', linewidth=.85, label='Avg. Baseline Accuracy Value')\n",
        "\n",
        "#boxplot = sns.boxplot(x=\"variable\", y=\"value\", data=pd.melt(data_NoDAvsDA))\n",
        "boxplot = sns.boxplot(x=\"modification\", y=\"delta\", data=Train_Local_descriptors, saturation=1.0, palette='husl', width=0.4, fliersize= 0) #boxprops={'facecolor':(.4, .6, .8, .5)},  boxprops=dict(alpha=.3)\n",
        "for patch in boxplot.artists:\n",
        "    r, g, b, a = patch.get_facecolor()\n",
        "    patch.set_facecolor((r, g, b, .6))\n",
        "\n",
        "boxplot = sns.stripplot(x=\"modification\", y=\"delta\", data=Train_Local_descriptors, marker=\"o\", size=1, alpha=0.10, palette='husl')  #\"hls\")#color=\"black\") #Spectral\n",
        "boxplot.axes.set_title(\"Descriptors for Train Images\", fontsize=14)\n",
        "#boxplot.set_xlabel(\"Features\", fontsize=14)\n",
        "boxplot.set(xlabel=None)\n",
        "# Rotate the labels by 45 degrees\n",
        "boxplot.set_xticklabels(boxplot.get_xticklabels(), rotation=45)\n",
        "boxplot.tick_params(labelsize=12)\n",
        "boxplot.set_ylabel(\"PPs delta (Descriptor Activation)\", fontsize=12)\n",
        "#plt.legend(bbox_to_anchor=(0.31, 1.0), loc=2, borderaxespad=0.0, framealpha=1, facecolor ='white', frameon=True) # adds the label box for the \"Avg. Baseline Accuracy Value\" dashed line\n",
        "#plt.savefig(\"Descriptors_for_Train_Images.pdf\", format=\"pdf\", bbox_inches=\"tight\")\n",
        "plt.savefig(\"Descriptors_for_Train_Images.png\", bbox_inches='tight', pad_inches=0.1)\n",
        "plt.show()"
      ],
      "metadata": {
        "id": "PY9ABZt2qBVV"
      },
      "execution_count": null,
      "outputs": []
    },
    {
      "cell_type": "code",
      "source": [
        "# Get the maximum value of 'delta' \n",
        "max_train_delta = Train_Local_descriptors['delta'].max()\n",
        "\n",
        "# Divide 'normalized_modifiers' by the maximum value for each group\n",
        "Train_Local_descriptors['normalized_modifiers'] = Train_Local_descriptors['delta'] / max_train_delta"
      ],
      "metadata": {
        "id": "rMP7rMPwqBVV"
      },
      "execution_count": null,
      "outputs": []
    },
    {
      "cell_type": "code",
      "source": [
        "#boxplot = Test_Local_descriptors.boxplot(column = 'delta',  by= 'modification', fontsize= 12, rot= 45, figsize = (10,5) )#, grid:bool = True, ax= None, layout = None, return_type= None, backend= None, **kwargs)\n",
        "#\n",
        "#sns.color_palette(\"hls\", 8)\n",
        "plt.figure(figsize=(8,4))\n",
        "#plt.plot([-1, 5], [0.85, 0.85]) # plt.plot([x1, x2], [y, y]) # this line of code adds a horizontal solid line on the boxplot \n",
        "#plt.axhline(y=0.91, color='#00f7ff', linewidth=1.35)\n",
        "##plt.axhline(y=0.85, color='#ff3300', linestyle='--', linewidth=1.35, label='Avg. Baseline Accuracy Value')\n",
        "#plt.axhline(y=0.82, color='#00f7ff', linestyle='solid', linewidth=.85, label='Avg. Baseline Accuracy Value')\n",
        "\n",
        "#boxplot = sns.boxplot(x=\"variable\", y=\"value\", data=pd.melt(data_NoDAvsDA))\n",
        "boxplot = sns.boxplot(x=\"modification\", y=\"normalized_modifiers\", data=Train_Local_descriptors, saturation=1.0, palette='husl', width=0.4, fliersize= 0) #boxprops={'facecolor':(.4, .6, .8, .5)},  boxprops=dict(alpha=.3)\n",
        "for patch in boxplot.artists:\n",
        "    r, g, b, a = patch.get_facecolor()\n",
        "    patch.set_facecolor((r, g, b, .6))\n",
        "\n",
        "boxplot = sns.stripplot(x=\"modification\", y=\"normalized_modifiers\", data=Train_Local_descriptors, marker=\"o\", size=1, alpha=0.10, palette='husl')  #\"hls\")#color=\"black\") #Spectral\n",
        "boxplot.axes.set_title(\"Normalized Descriptors for Train Images\", fontsize=14)\n",
        "#boxplot.set_xlabel(\"Features\", fontsize=14)\n",
        "boxplot.set(xlabel=None)\n",
        "# Rotate the labels by 45 degrees\n",
        "boxplot.set_xticklabels(boxplot.get_xticklabels(), rotation=45)\n",
        "boxplot.tick_params(labelsize=12)\n",
        "boxplot.set_ylabel(\"PPs delta (Descriptor Activation)\", fontsize=12)\n",
        "#plt.legend(bbox_to_anchor=(0.31, 1.0), loc=2, borderaxespad=0.0, framealpha=1, facecolor ='white', frameon=True) # adds the label box for the \"Avg. Baseline Accuracy Value\" dashed line\n",
        "#plt.savefig(\"Normalized_Descriptors_for_Train_Images.pdf\", format=\"pdf\", bbox_inches=\"tight\")\n",
        "plt.savefig(\"Normalized_Descriptors_for_Train_Images.png\", bbox_inches='tight', pad_inches=0.1)\n",
        "plt.show()"
      ],
      "metadata": {
        "id": "95Vkk21mqBVV"
      },
      "execution_count": null,
      "outputs": []
    },
    {
      "cell_type": "markdown",
      "source": [
        "# Train Global Descriptors"
      ],
      "metadata": {
        "id": "Vn5sPCZQo-ys"
      }
    },
    {
      "cell_type": "code",
      "execution_count": null,
      "metadata": {
        "id": "SJfViwlMpF-B"
      },
      "outputs": [],
      "source": [
        "#from sklearn.datasets import load_iris\n",
        "import pandas as pd\n",
        "import seaborn as sns\n",
        "import matplotlib.pyplot as plt\n",
        "import numpy as np\n",
        "\n",
        "\n",
        "sns.set_theme()\n",
        "\n",
        "#data = load_iris(as_frame=True)\n",
        "#Test_Local_descriptors   = pd.read_csv('DenseNet201_JE_6c_Mix_w256_003pps_OsDAtestset_local_descriptors_score_0.45_0.7_0.1_4_0.05_4_0.8.csv', sep=',' )\n",
        "#Test_Global_descriptors  = pd.read_csv('DenseNet201_JE_6c_Mix_w256_003pps_OsDAtestset_weighted_global_descriptors_score_0.45_0.7_0.1_4_0.05_4_0.8.csv', sep=',' )\n",
        "\n",
        "#Train_Local_descriptors  = pd.read_csv('DenseNet201_JE_6c_Mix_w256_003pps_OsDAtrainingset_local_descriptors_score_0.45_0.7_0.1_4_0.05_4_0.8.csv', sep=',' )\n",
        "Train_Global_descriptors = pd.read_csv( 'DenseNet201_JE_6c_Mix_w256_003pps_OsDAtrainingset_weighted_global_descriptors_score_0.45_0.7_0.1_4_0.05_4_0.8.csv' , sep=',' )\n",
        "\n",
        "#df = data.data\n",
        "#df.head()"
      ]
    },
    {
      "cell_type": "code",
      "source": [
        "Train_Global_descriptors"
      ],
      "metadata": {
        "id": "9V5ZLcy7pF-B"
      },
      "execution_count": null,
      "outputs": []
    },
    {
      "cell_type": "code",
      "source": [
        "#sns.color_palette(\"hls\", 8)\n",
        "plt.figure(figsize=(8,4))\n",
        "#plt.plot([-1, 5], [0.85, 0.85]) # plt.plot([x1, x2], [y, y]) # this line of code adds a horizontal solid line on the boxplot \n",
        "#plt.axhline(y=0.91, color='#00f7ff', linewidth=1.35)\n",
        "##plt.axhline(y=0.85, color='#ff3300', linestyle='--', linewidth=1.35, label='Avg. Baseline Accuracy Value')\n",
        "#plt.axhline(y=0.82, color='#00f7ff', linestyle='solid', linewidth=.85, label='Avg. Baseline Accuracy Value')\n",
        "\n",
        "#boxplot = sns.boxplot(x=\"variable\", y=\"value\", data=pd.melt(data_NoDAvsDA))\n",
        "boxplot = sns.boxplot(x=\"modification\", y=\"weighted_delta\", data=Train_Global_descriptors, saturation=1.0, palette='husl', width=0.4, fliersize= 0) #boxprops={'facecolor':(.4, .6, .8, .5)},  boxprops=dict(alpha=.3)\n",
        "for patch in boxplot.artists:\n",
        "    r, g, b, a = patch.get_facecolor()\n",
        "    patch.set_facecolor((r, g, b, .6))\n",
        "\n",
        "boxplot = sns.stripplot(x=\"modification\", y=\"weighted_delta\", data=Train_Global_descriptors, marker=\"o\", size=5, alpha=0.90, palette='husl')  #\"hls\")#color=\"black\") #Spectral\n",
        "boxplot.axes.set_title(\"Global Descriptors for Train Images\", fontsize=14)\n",
        "#boxplot.set_xlabel(\"Features\", fontsize=14)\n",
        "boxplot.set(xlabel=None)\n",
        "# Rotate the labels by 45 degrees\n",
        "boxplot.set_xticklabels(boxplot.get_xticklabels(), rotation=45)\n",
        "boxplot.tick_params(labelsize=12)\n",
        "boxplot.set_ylabel(\"PPs delta (Descriptor Activation)\", fontsize=12)\n",
        "#plt.legend(bbox_to_anchor=(0.31, 1.0), loc=2, borderaxespad=0.0, framealpha=1, facecolor ='white', frameon=True) # adds the label box for the \"Avg. Baseline Accuracy Value\" dashed line\n",
        "plt.savefig(\"Global_Descriptors_for_Train_Images.pdf\", format=\"pdf\", bbox_inches=\"tight\")\n",
        "#plt.savefig('Accuracy_per_pps_numbers.png', bbox_inches='tight', pad_inches=0.1)\n",
        "plt.show()"
      ],
      "metadata": {
        "id": "sDZYZSOCpF-B"
      },
      "execution_count": null,
      "outputs": []
    },
    {
      "cell_type": "code",
      "source": [
        "# Get the maximum value of 'weighted_delta' \n",
        "max_train_weighted_delta = Train_Global_descriptors['weighted_delta'].max()\n",
        "\n",
        "# Divide 'modifiers' by the maximum value of 'weighted_delta'\n",
        "Train_Global_descriptors['normalized_modifiers'] = Train_Global_descriptors['weighted_delta'] / max_train_weighted_delta"
      ],
      "metadata": {
        "id": "cEOT-WQkpF-B"
      },
      "execution_count": null,
      "outputs": []
    },
    {
      "cell_type": "code",
      "source": [
        "#boxplot = Test_Local_descriptors.boxplot(column = 'delta',  by= 'modification', fontsize= 12, rot= 45, figsize = (10,5) )#, grid:bool = True, ax= None, layout = None, return_type= None, backend= None, **kwargs)\n",
        "#\n",
        "#sns.color_palette(\"hls\", 8)\n",
        "plt.figure(figsize=(8,4))\n",
        "#plt.plot([-1, 5], [0.85, 0.85]) # plt.plot([x1, x2], [y, y]) # this line of code adds a horizontal solid line on the boxplot \n",
        "#plt.axhline(y=0.91, color='#00f7ff', linewidth=1.35)\n",
        "##plt.axhline(y=0.85, color='#ff3300', linestyle='--', linewidth=1.35, label='Avg. Baseline Accuracy Value')\n",
        "#plt.axhline(y=0.82, color='#00f7ff', linestyle='solid', linewidth=.85, label='Avg. Baseline Accuracy Value')\n",
        "\n",
        "#boxplot = sns.boxplot(x=\"variable\", y=\"value\", data=pd.melt(data_NoDAvsDA))\n",
        "boxplot = sns.boxplot(x=\"modification\", y=\"normalized_modifiers\", data=Train_Global_descriptors, saturation=1.0, palette='husl', width=0.4, fliersize= 0) #boxprops={'facecolor':(.4, .6, .8, .5)},  boxprops=dict(alpha=.3)\n",
        "for patch in boxplot.artists:\n",
        "    r, g, b, a = patch.get_facecolor()\n",
        "    patch.set_facecolor((r, g, b, .6))\n",
        "\n",
        "boxplot = sns.stripplot(x=\"modification\", y=\"normalized_modifiers\", data=Train_Global_descriptors, marker=\"o\", size=5, alpha=0.90, palette='husl')  #\"hls\")#color=\"black\") #Spectral\n",
        "boxplot.axes.set_title(\"Normalized Global Descriptors for Train Images\", fontsize=14)\n",
        "#boxplot.set_xlabel(\"Features\", fontsize=14)\n",
        "boxplot.set(xlabel=None)\n",
        "# Rotate the labels by 45 degrees\n",
        "boxplot.set_xticklabels(boxplot.get_xticklabels(), rotation=45)\n",
        "boxplot.tick_params(labelsize=12)\n",
        "boxplot.set_ylabel(\"PPs delta (Descriptor Activation)\", fontsize=12)\n",
        "#plt.legend(bbox_to_anchor=(0.31, 1.0), loc=2, borderaxespad=0.0, framealpha=1, facecolor ='white', frameon=True) # adds the label box for the \"Avg. Baseline Accuracy Value\" dashed line\n",
        "plt.savefig(\"Normalized_Global_Descriptors_for_Train_Images.pdf\", format=\"pdf\", bbox_inches=\"tight\")\n",
        "#plt.savefig('Accuracy_per_pps_numbers.png', bbox_inches='tight', pad_inches=0.1)\n",
        "plt.show()"
      ],
      "metadata": {
        "id": "sFcl9RNxpF-B"
      },
      "execution_count": null,
      "outputs": []
    },
    {
      "cell_type": "code",
      "source": [],
      "metadata": {
        "id": "9c1Dz5tspk03"
      },
      "execution_count": null,
      "outputs": []
    },
    {
      "cell_type": "code",
      "source": [],
      "metadata": {
        "id": "nf3KjWV_C9TY"
      },
      "execution_count": null,
      "outputs": []
    },
    {
      "cell_type": "markdown",
      "source": [
        "# By Classes, Test Local Descriptors"
      ],
      "metadata": {
        "id": "M3KBWicwC-3_"
      }
    },
    {
      "cell_type": "code",
      "execution_count": null,
      "metadata": {
        "id": "7pbs8xhOC-4A"
      },
      "outputs": [],
      "source": [
        "#from sklearn.datasets import load_iris\n",
        "import pandas as pd\n",
        "import seaborn as sns\n",
        "import matplotlib.pyplot as plt\n",
        "import numpy as np\n",
        "\n",
        "sns.set_theme()\n",
        "\n",
        "#data = load_iris(as_frame=True)\n",
        "Test_Local_descriptors   = pd.read_csv('DenseNet201_JE_6c_Mix_w256_run1_015_003pps_OsDAtestset_local_descriptors_score_0.45_0.7_0.1_4_0.05_4_0.8.csv', sep=',' )\n",
        "#Test_Global_descriptors  = pd.read_csv('DenseNet201_JE_6c_Mix_w256_run1_015_003pps_OsDAtestset_weighted_global_descriptors_score_0.45_0.7_0.1_4_0.05_4_0.8.csv', sep=',' )\n",
        "\n",
        "#Train_Local_descriptors  = pd.read_csv('DenseNet201_JE_6c_Mix_w256_run1_015_003pps_OsDAtrainingset_local_descriptors_score_0.45_0.7_0.1_4_0.05_4_0.8.csv', sep=',' )\n",
        "#Train_Global_descriptors = pd.read_csv('DenseNet201_JE_6c_Mix_w256_run1_015_003pps_OsDAtrainingset_weighted_global_descriptors_score_0.45_0.7_0.1_4_0.05_4_0.8.csv' , sep=',' )\n",
        "\n",
        "#df = data.data\n",
        "#df.head()"
      ]
    },
    {
      "cell_type": "code",
      "source": [
        "Test_Local_descriptors"
      ],
      "metadata": {
        "id": "nH-laXy_C-4A"
      },
      "execution_count": null,
      "outputs": []
    },
    {
      "cell_type": "code",
      "source": [
        "class_number = 0\n",
        "Test_Local_descriptors[\"class\"] = 0\n",
        "for row_number in range(len(Test_Local_descriptors)):\n",
        "  if row_number <= ((class_number + 1)*43200 -1):\n",
        "    #Test_Local_descriptors[\"class_number\"][row_number] = class_number\n",
        "    Test_Local_descriptors[\"class\"][row_number] = class_number\n",
        "  else:\n",
        "    class_number += 1\n",
        "    Test_Local_descriptors[\"class\"][row_number] = class_number\n",
        "    print(class_number)\n",
        "class_number = 0\n",
        "#row_number\n",
        "Test_Local_descriptors"
      ],
      "metadata": {
        "id": "LyoAPMQEvmFm"
      },
      "execution_count": null,
      "outputs": []
    },
    {
      "cell_type": "code",
      "source": [
        "Test_Local_descriptors['class_name'] = Test_Local_descriptors['class'].map({0: 'Ia_WW', 1: 'IIa_WD', 2: 'IIIa_AU' , 3: 'IVc_STR', 4: 'IVd_BRU', 5: 'Va_CYS'})\n",
        "Test_Local_descriptors.describe"
      ],
      "metadata": {
        "id": "0Z2iN5CTm2AZ"
      },
      "execution_count": null,
      "outputs": []
    },
    {
      "cell_type": "code",
      "source": [
        "Test_Local_descriptors[\"class_n_modification\"] = Test_Local_descriptors[['class_name', 'modification']].agg('_'.join, axis=1)\n",
        "Test_Local_descriptors"
      ],
      "metadata": {
        "id": "vM8CMDVhOJ0Y"
      },
      "execution_count": null,
      "outputs": []
    },
    {
      "cell_type": "code",
      "source": [
        "print(len(Test_Local_descriptors))\n",
        "Test_Local_descriptors.groupby(\"class\").size()"
      ],
      "metadata": {
        "id": "DKPRhskMzAit"
      },
      "execution_count": null,
      "outputs": []
    },
    {
      "cell_type": "code",
      "source": [
        "!pip install --upgrade seaborn"
      ],
      "metadata": {
        "id": "VeBKf9Lraw4g"
      },
      "execution_count": null,
      "outputs": []
    },
    {
      "cell_type": "code",
      "source": [
        "Ligth_Test_Local_descriptors = Test_Local_descriptors.groupby('class_n_modification').head(100).reset_index(drop=True)\n",
        "Ligth_Test_Local_descriptors"
      ],
      "metadata": {
        "id": "hapKpH1HxSIn"
      },
      "execution_count": null,
      "outputs": []
    },
    {
      "cell_type": "code",
      "source": [
        "#boxplot = Test_Local_descriptors.boxplot(column = 'delta',  by= 'modification', fontsize= 12, rot= 45, figsize = (10,5) )#, grid:bool = True, ax= None, layout = None, return_type= None, backend= None, **kwargs)\n",
        "#\n",
        "# Create the figure and axes\n",
        "#fig, ax = plt.subplots()\n",
        "# Create the figure and axes\n",
        "boxplot, ax = plt.subplots(figsize=(25,15))\n",
        "\n",
        "\n",
        "#sns.color_palette(\"hls\", 8)\n",
        "#plt.figure(figsize=(20,50))\n",
        "#plt.plot([-1, 5], [0.85, 0.85]) # plt.plot([x1, x2], [y, y]) # this line of code adds a horizontal solid line on the boxplot \n",
        "#plt.axhline(y=0.91, color='#00f7ff', linewidth=1.35)\n",
        "##plt.axhline(y=0.85, color='#ff3300', linestyle='--', linewidth=1.35, label='Avg. Baseline Accuracy Value')\n",
        "#plt.axhline(y=0.82, color='#00f7ff', linestyle='solid', linewidth=.85, label='Avg. Baseline Accuracy Value')\n",
        "\n",
        "#boxplot = sns.boxplot(x=\"variable\", y=\"value\", data=pd.melt(data_NoDAvsDA))\n",
        "#   data=Test_Local_descriptors.groupby(\"class\").get_group(0)\n",
        "# .groupby(\"modification\").get_group(\"hue\")                                                                                                                                  \n",
        "boxplot = sns.catplot(x=\"class_n_modification\", y=\"delta\", hue=\"class_name\", data=Ligth_Test_Local_descriptors, saturation=1.0, palette='husl', ax=ax, width=1.0, fliersize= 0, hue_order=[\"Ia_WW\", \"IIa_WD\", \"IIIa_AU\", \"IVc_STR\", 'IVd_BRU', \"Va_CYS\"], kind=\"box\", height=8, aspect=2) #boxprops={'facecolor':(.4, .6, .8, .5)},  boxprops=dict(alpha=.3)\n",
        "# boxplot = sns.catplot(x=\"class_n_modification\", y=\"delta\", hue=\"class\", data=Test_Local_descriptors, saturation=1.0, palette='husl', width=0.4, fliersize= 0, hue_order=[0, 1, 2, 3, 4, 5], kind=\"box\")\n",
        "#for patch in boxplot.artists:\n",
        "#    r, g, b, a = patch.get_facecolor()\n",
        "#    patch.set_facecolor((r, g, b, .6))\n",
        "\n",
        "boxplot = sns.stripplot(x=\"class_n_modification\", y=\"delta\", hue=\"class_name\", data=Ligth_Test_Local_descriptors, marker=\"o\", size=3, alpha=0.20, palette='husl', ax=ax, jitter=True, dodge=True, hue_order=[\"Ia_WW\", \"IIa_WD\", \"IIIa_AU\", \"IVc_STR\", 'IVd_BRU', \"Va_CYS\"])  #\"hls\")#color=\"black\") #Spectral\n",
        "#boxplot = sns.swarmplot(x=\"modification\", y=\"delta\", hue=\"class\", data=Test_Local_descriptors.groupby(\"modification\").get_group(\"hue\"), marker=\"o\", size=1, alpha=0.10, palette='husl',  \n",
        "#                        dodge=True, hue_order=[0, 1, 2, 3, 4, 5])  #\"hls\")#color=\"black\") #Spectral                        \n",
        "boxplot.axes.set_title(\"Descriptors per classes, test Images\", fontsize=14)\n",
        "#boxplot.set_xlabel(\"Features\", fontsize=14)\n",
        "boxplot.set(xlabel=None)\n",
        "# Rotate the labels by 45 degrees\n",
        "boxplot.set_xticklabels(boxplot.get_xticklabels() , rotation=90)\n",
        "boxplot.tick_params(labelsize=12)\n",
        "boxplot.set_ylabel(\"PPs delta (Descriptor Activation)\", fontsize=12)\n",
        "boxplot.legend(bbox_to_anchor=(1.0, 1.0), loc=2, borderaxespad=0.0, framealpha=1, facecolor ='white', frameon=True, title=\"Class\") # adds the label box \n",
        "#boxplot.legend.remove()\n",
        "#plt.savefig(\"Descriptors_for_Train_Images.pdf\", format=\"pdf\", bbox_inches=\"tight\")\n",
        "#plt.savefig(\"Descriptors_for_Train_Images.png\", bbox_inches='tight', pad_inches=0.1)\n",
        "plt.legend([],[], frameon=False)\n",
        "plt.show()\n",
        "plt.clf()\n",
        "plt.close()"
      ],
      "metadata": {
        "id": "E4HFwZfXMqtF"
      },
      "execution_count": null,
      "outputs": []
    },
    {
      "cell_type": "code",
      "source": [
        "#boxplot = Test_Local_descriptors.boxplot(column = 'delta',  by= 'modification', fontsize= 12, rot= 45, figsize = (10,5) )#, grid:bool = True, ax= None, layout = None, return_type= None, backend= None, **kwargs)\n",
        "#\n",
        "# Create the figure and axes\n",
        "#fig, ax = plt.subplots()\n",
        "# Create the figure and axes\n",
        "boxplot, ax = plt.subplots(figsize=(25,15))\n",
        "\n",
        "#sns.color_palette(\"hls\", 8)\n",
        "#plt.figure(figsize=(20,50))\n",
        "#plt.plot([-1, 5], [0.85, 0.85]) # plt.plot([x1, x2], [y, y]) # this line of code adds a horizontal solid line on the boxplot \n",
        "#plt.axhline(y=0.91, color='#00f7ff', linewidth=1.35)\n",
        "##plt.axhline(y=0.85, color='#ff3300', linestyle='--', linewidth=1.35, label='Avg. Baseline Accuracy Value')\n",
        "#plt.axhline(y=0.82, color='#00f7ff', linestyle='solid', linewidth=.85, label='Avg. Baseline Accuracy Value')\n",
        "\n",
        "#boxplot = sns.boxplot(x=\"variable\", y=\"value\", data=pd.melt(data_NoDAvsDA))\n",
        "#   data=Test_Local_descriptors.groupby(\"class\").get_group(0)\n",
        "# .groupby(\"modification\").get_group(\"hue\")                                                                                                                                  \n",
        "#boxplot = sns.catplot(x=\"class_n_modification\", y=\"delta\", hue=\"class_name\", data=Ligth_Test_Local_descriptors, saturation=1.0, palette='husl', ax=ax, width=1.0, fliersize= 0, hue_order=[\"Ia_WW\", \"IIa_WD\", \"IIIa_AU\", \"IVc_STR\", 'IVd_BRU', \"Va_CYS\"], kind=\"box\", height=8, aspect=2) #boxprops={'facecolor':(.4, .6, .8, .5)},  boxprops=dict(alpha=.3)\n",
        "# boxplot = sns.catplot(x=\"class_n_modification\", y=\"delta\", hue=\"class\", data=Test_Local_descriptors, saturation=1.0, palette='husl', width=0.4, fliersize= 0, hue_order=[0, 1, 2, 3, 4, 5], kind=\"box\")\n",
        "boxplot = sns.boxplot(x=\"class_n_modification\", y=\"delta\", hue=\"class_name\", data=Ligth_Test_Local_descriptors, saturation=1.0, palette='husl', ax=ax, width=0.8, fliersize= 0, hue_order=[\"Ia_WW\", \"IIa_WD\", \"IIIa_AU\", \"IVc_STR\", 'IVd_BRU', \"Va_CYS\"])\n",
        "#adjust_box_widths(boxplot2, 0.9)\n",
        "#for patch in boxplot.artists:\n",
        "#    r, g, b, a = patch.get_facecolor()\n",
        "#    patch.set_facecolor((r, g, b, .6))\n",
        "\n",
        "#boxplot = sns.stripplot(x=\"class_n_modification\", y=\"delta\", hue=\"class_name\", data=Ligth_Test_Local_descriptors, marker=\"o\", size=3, alpha=0.20, palette='husl', ax=ax, jitter=True, dodge=True, hue_order=[\"Ia_WW\", \"IIa_WD\", \"IIIa_AU\", \"IVc_STR\", 'IVd_BRU', \"Va_CYS\"])  #\"hls\")#color=\"black\") #Spectral\n",
        "#boxplot = sns.swarmplot(x=\"modification\", y=\"delta\", hue=\"class\", data=Test_Local_descriptors.groupby(\"modification\").get_group(\"hue\"), marker=\"o\", size=1, alpha=0.10, palette='husl',  \n",
        "#                        dodge=True, hue_order=[0, 1, 2, 3, 4, 5])  #\"hls\")#color=\"black\") #Spectral                        \n",
        "boxplot.axes.set_title(\"Descriptors per classes, test Images\", fontsize=14)\n",
        "#boxplot.set_xlabel(\"Features\", fontsize=14)\n",
        "boxplot.set(xlabel=None)\n",
        "# Rotate the labels by 45 degrees\n",
        "boxplot.set_xticklabels(boxplot.get_xticklabels() , rotation=90)\n",
        "boxplot.tick_params(labelsize=12)\n",
        "boxplot.set_ylabel(\"PPs delta (Descriptor Activation)\", fontsize=12)\n",
        "boxplot.legend(bbox_to_anchor=(1.0, 1.0), loc=2, borderaxespad=0.0, framealpha=1, facecolor ='white', frameon=True, title=\"Class\") # adds the label box \n",
        "#boxplot.legend.remove()\n",
        "#plt.savefig(\"Descriptors_for_Train_Images.pdf\", format=\"pdf\", bbox_inches=\"tight\")\n",
        "#plt.savefig(\"Descriptors_for_Train_Images.png\", bbox_inches='tight', pad_inches=0.1)\n",
        "plt.legend([],[], frameon=False)\n",
        "plt.show()\n",
        "plt.clf()\n",
        "plt.close()"
      ],
      "metadata": {
        "id": "syWc95I0JTUd"
      },
      "execution_count": null,
      "outputs": []
    },
    {
      "cell_type": "code",
      "source": [
        "#boxplot = sns.catplot(x=\"class_n_modification\", y=\"delta\", hue=\"class\", data=Test_Local_descriptors, saturation=1.0, palette='husl', width=0.4, fliersize= 0, hue_order=[0, 1, 2, 3, 4, 5], kind=\"box\") \n",
        "#boxplot = sns.stripplot(x=\"class_n_modification\", y=\"delta\", hue=\"class\", data=Test_Local_descriptors, marker=\"o\", size=3, alpha=0.10, palette='husl',  jitter=True, dodge=True, hue_order=[0, 1, 2, 3, 4, 5]) \n",
        "\n",
        "#Changing Seaborn context, this changes format of all plots\n",
        "sns.set_context(\"poster\")\n",
        "\n",
        "# Create the figure and axes\n",
        "boxplot2, ax = plt.subplots(figsize=(25,15))\n",
        "\n",
        "# Create the boxplot\n",
        "# kind=\"box\", height=8, aspect=2\n",
        "boxplot2=sns.boxplot(  x=\"modification\", y=\"delta\", hue=\"class_name\", data=Ligth_Test_Local_descriptors, saturation=1.0, palette='husl', ax=ax, width=0.8, fliersize= 0, hue_order=[\"Ia_WW\", \"IIa_WD\", \"IIIa_AU\", \"IVc_STR\", 'IVd_BRU', \"Va_CYS\"])\n",
        "#adjust_box_widths(boxplot2, 0.9)\n",
        "# Adjust the transparency of the boxplots\n",
        "for patch in boxplot2.artists:\n",
        "    r, g, b, a = patch.get_facecolor()\n",
        "    patch.set_facecolor((r, g, b, .30))\n",
        "\n",
        "\n",
        "\n",
        "# Add the scatter plots\n",
        "boxplot2= sns.stripplot(x=\"modification\", y=\"delta\", hue=\"class_name\", data=Ligth_Test_Local_descriptors, marker=\"o\", size=3, alpha=0.3, palette='husl', ax=ax, jitter=True, dodge=True, hue_order=[\"Ia_WW\", \"IIa_WD\", \"IIIa_AU\", \"IVc_STR\", 'IVd_BRU', \"Va_CYS\"])\n",
        "boxplot2.set(xlabel=None)\n",
        "#boxplot2.legend(None)\n",
        "#plt.legend(bbox_to_anchor=(1.0, 1), loc=2, frameon=False)\n",
        "#boxplot2.figure(figsize=(8, 6), dpi=80)\n",
        "\n",
        "#Removing the \"legend\" from the graph\n",
        "#plt.legend([],[], frameon=False)\n",
        "#Showing just specific labels in the \"legend\" of the graph\n",
        "h,l = boxplot2.get_legend_handles_labels()\n",
        "plt.legend(h[0:6],l[0:6],bbox_to_anchor=(0.93, 1), loc=2, borderaxespad=0.0, framealpha=1, facecolor ='white', frameon=True, title=\"Class\")\n",
        "\n",
        "# Format for the labels in the graph\n",
        "boxplot2.axes.set_title(\"Descriptors per Class on Light: Test Images\", fontsize=32)\n",
        "#boxplot.set_xlabel(\"Features\", fontsize=12)\n",
        "boxplot2.set(xlabel=None)\n",
        "# Rotate the labels by 45 degrees\n",
        "#boxplot.set_xticklabels(boxplot.get_xticklabels() , rotation=90)\n",
        "#boxplot.tick_params(labelsize=8)\n",
        "boxplot2.set_ylabel(\"PPs delta (Descriptor Activation)\", fontsize=24)\n",
        "sns.set_context(\"poster\")\n",
        "\n",
        "#To save the graph:\n",
        "#plt.savefig(\"Descriptors_for_Train_Images.pdf\", format=\"pdf\", bbox_inches=\"tight\")\n",
        "plt.savefig(\"DescriptorsPerClass_TestImages.png\", bbox_inches='tight', pad_inches=0.1)\n",
        "\n",
        "plt.show()\n",
        "plt.clf()\n",
        "plt.close()"
      ],
      "metadata": {
        "id": "1LcVAuNh7fow"
      },
      "execution_count": null,
      "outputs": []
    },
    {
      "cell_type": "code",
      "source": [
        "#boxplot = sns.catplot(x=\"class_n_modification\", y=\"delta\", hue=\"class\", data=Test_Local_descriptors, saturation=1.0, palette='husl', width=0.4, fliersize= 0, hue_order=[0, 1, 2, 3, 4, 5], kind=\"box\") \n",
        "#boxplot = sns.stripplot(x=\"class_n_modification\", y=\"delta\", hue=\"class\", data=Test_Local_descriptors, marker=\"o\", size=3, alpha=0.10, palette='husl',  jitter=True, dodge=True, hue_order=[0, 1, 2, 3, 4, 5]) \n",
        "\n",
        "#Changing Seaborn context, this changes format of all plots\n",
        "sns.set_context(\"poster\")\n",
        "\n",
        "# Create the figure and axes\n",
        "boxplot2, ax = plt.subplots(figsize=(25,15))\n",
        "\n",
        "# Create the boxplot\n",
        "# kind=\"box\", height=8, aspect=2\n",
        "#boxplot2=sns.boxplot(  x=\"modification\", y=\"delta\", hue=\"class_name\", data=Ligth_Test_Local_descriptors, saturation=1.0, palette='husl', ax=ax, width=0.8, fliersize= 0, hue_order=[\"Ia_WW\", \"IIa_WD\", \"IIIa_AU\", \"IVc_STR\", 'IVd_BRU', \"Va_CYS\"])\n",
        "boxplot2=sns.boxplot(  x=\"class_name\", y=\"delta\", hue=\"modification\", data=Test_Local_descriptors, saturation=1.0, palette='husl', ax=ax, width=0.8, fliersize= 0, hue_order=[\"contrast\", \"saturation\", \"hue\", \"shape\", 'texture', \"brightness\"])\n",
        "#adjust_box_widths(boxplot2, 0.9)\n",
        "# Adjust the transparency of the boxplots\n",
        "for patch in boxplot2.artists:\n",
        "    r, g, b, a = patch.get_facecolor()\n",
        "    patch.set_facecolor((r, g, b, .30))\n",
        "\n",
        "\n",
        "# Add the scatter plots\n",
        "boxplot2= sns.stripplot(x=\"class_name\", y=\"delta\", hue=\"modification\", data=Test_Local_descriptors, marker=\"o\", size=3, alpha=0.3, palette='husl', ax=ax, jitter=True, dodge=True, hue_order=[\"contrast\", \"saturation\", \"hue\", \"shape\", 'texture', \"brightness\"])\n",
        "boxplot2.set(xlabel=None)\n",
        "#boxplot2.legend(None)\n",
        "#plt.legend(bbox_to_anchor=(1.0, 1), loc=2, frameon=False)\n",
        "#boxplot2.figure(figsize=(8, 6), dpi=80)\n",
        "\n",
        "#Removing the \"legend\" from the graph\n",
        "#plt.legend([],[], frameon=False)\n",
        "#Showing just specific labels in the \"legend\" of the graph\n",
        "h,l = boxplot2.get_legend_handles_labels()\n",
        "plt.legend(h[0:6],l[0:6],bbox_to_anchor=(0.98, 1), loc=2, borderaxespad=0.0, framealpha=1, facecolor ='white', frameon=True, title=\"Class\")\n",
        "\n",
        "# Format for the labels in the graph\n",
        "boxplot2.axes.set_title(\"Descriptors per Class on Test Images\", fontsize=32)\n",
        "#boxplot.set_xlabel(\"Features\", fontsize=12)\n",
        "boxplot2.set(xlabel=None)\n",
        "# Rotate the labels by 45 degrees\n",
        "#boxplot.set_xticklabels(boxplot.get_xticklabels() , rotation=90)\n",
        "#boxplot.tick_params(labelsize=8)\n",
        "boxplot2.set_ylabel(\"PPs delta (Descriptor Activation)\", fontsize=24)\n",
        "sns.set_context(\"poster\")\n",
        "\n",
        "#To save the graph:\n",
        "#plt.savefig(\"Descriptors_for_Train_Images.pdf\", format=\"pdf\", bbox_inches=\"tight\")\n",
        "plt.savefig(\"DescriptorsPerClass_TestImages.png\", bbox_inches='tight', pad_inches=0.1)\n",
        "\n",
        "plt.show()\n",
        "plt.clf()\n",
        "plt.close()"
      ],
      "metadata": {
        "id": "CyWtDdfuKmU7"
      },
      "execution_count": null,
      "outputs": []
    },
    {
      "cell_type": "code",
      "source": [
        "#boxplot = sns.catplot(x=\"class_n_modification\", y=\"delta\", hue=\"class\", data=Test_Local_descriptors, saturation=1.0, palette='husl', width=0.4, fliersize= 0, hue_order=[0, 1, 2, 3, 4, 5], kind=\"box\") \n",
        "#boxplot = sns.stripplot(x=\"class_n_modification\", y=\"delta\", hue=\"class\", data=Test_Local_descriptors, marker=\"o\", size=3, alpha=0.10, palette='husl',  jitter=True, dodge=True, hue_order=[0, 1, 2, 3, 4, 5]) \n",
        "\n",
        "#Changing Seaborn context, this changes format of all plots\n",
        "sns.set_context(\"poster\")\n",
        "\n",
        "# Create the figure and axes\n",
        "boxplot2, ax = plt.subplots(figsize=(25,15))\n",
        "\n",
        "# Create the boxplot\n",
        "# kind=\"box\", height=8, aspect=2\n",
        "#boxplot2=sns.boxplot(  x=\"modification\", y=\"delta\", hue=\"class_name\", data=Ligth_Test_Local_descriptors, saturation=1.0, palette='husl', ax=ax, width=0.8, fliersize= 0, hue_order=[\"Ia_WW\", \"IIa_WD\", \"IIIa_AU\", \"IVc_STR\", 'IVd_BRU', \"Va_CYS\"])\n",
        "boxplot2=sns.boxplot(  x=\"class_name\", y=\"delta\", hue=\"modification\", data=Test_Local_descriptors, saturation=1.0, palette='husl', ax=ax, width=0.8, fliersize= 0, hue_order=[\"contrast\", \"saturation\", \"hue\", \"shape\", 'texture', \"brightness\"])\n",
        "#adjust_box_widths(boxplot2, 0.9)\n",
        "# Adjust the transparency of the boxplots\n",
        "for patch in boxplot2.artists:\n",
        "    r, g, b, a = patch.get_facecolor()\n",
        "    patch.set_facecolor((r, g, b, .90))\n",
        "\n",
        "# Set Y-axis limits\n",
        "boxplot2.set_ylim(-2.5, 4.1)\n",
        "\n",
        "# Add the scatter plots\n",
        "#boxplot2= sns.stripplot(x=\"class_name\", y=\"delta\", hue=\"modification\", data=Test_Local_descriptors, marker=\"o\", size=3, alpha=0.3, palette='husl', ax=ax, jitter=True, dodge=True, hue_order=[\"contrast\", \"saturation\", \"hue\", \"shape\", 'texture', \"brightness\"])\n",
        "boxplot2.set(xlabel=None)\n",
        "#boxplot2.legend(None)\n",
        "#plt.legend(bbox_to_anchor=(1.0, 1), loc=2, frameon=False)\n",
        "#boxplot2.figure(figsize=(8, 6), dpi=80)\n",
        "\n",
        "#Removing the \"legend\" from the graph\n",
        "#plt.legend([],[], frameon=False)\n",
        "#Showing just specific labels in the \"legend\" of the graph\n",
        "h,l = boxplot2.get_legend_handles_labels()\n",
        "plt.legend(h[0:6],l[0:6],bbox_to_anchor=(0.98, 1), loc=2, borderaxespad=0.0, framealpha=1, facecolor ='white', frameon=True, title=\"Class\")\n",
        "\n",
        "# Format for the labels in the graph\n",
        "boxplot2.axes.set_title(\"Descriptors per Class on Test Images\", fontsize=32)\n",
        "#boxplot.set_xlabel(\"Features\", fontsize=12)\n",
        "boxplot2.set(xlabel=None)\n",
        "# Rotate the labels by 45 degrees\n",
        "#boxplot.set_xticklabels(boxplot.get_xticklabels() , rotation=90)\n",
        "#boxplot.tick_params(labelsize=8)\n",
        "boxplot2.set_ylabel(\"PPs delta (Descriptor Activation)\", fontsize=24)\n",
        "sns.set_context(\"poster\")\n",
        "\n",
        "#To save the graph:\n",
        "#plt.savefig(\"Descriptors_for_Train_Images.pdf\", format=\"pdf\", bbox_inches=\"tight\")\n",
        "plt.savefig(\"DescriptorsPerClass_TestImages.png\", bbox_inches='tight', pad_inches=0.1)\n",
        "\n",
        "plt.show()\n",
        "plt.clf()\n",
        "plt.close()"
      ],
      "metadata": {
        "id": "FKzGFLd2MfWS"
      },
      "execution_count": null,
      "outputs": []
    },
    {
      "cell_type": "code",
      "source": [
        "#boxplot = sns.catplot(x=\"class_n_modification\", y=\"delta\", hue=\"class\", data=Test_Local_descriptors, saturation=1.0, palette='husl', width=0.4, fliersize= 0, hue_order=[0, 1, 2, 3, 4, 5], kind=\"box\") \n",
        "#boxplot = sns.stripplot(x=\"class_n_modification\", y=\"delta\", hue=\"class\", data=Test_Local_descriptors, marker=\"o\", size=3, alpha=0.10, palette='husl',  jitter=True, dodge=True, hue_order=[0, 1, 2, 3, 4, 5]) \n",
        "\n",
        "#Changing Seaborn context, this changes format of all plots\n",
        "sns.set_context(\"poster\")\n",
        "\n",
        "# Create the figure and axes\n",
        "boxplot2, ax = plt.subplots(figsize=(25,15))\n",
        "\n",
        "# Create the boxplot\n",
        "# kind=\"box\", height=8, aspect=2\n",
        "boxplot2=sns.boxplot(  x=\"modification\", y=\"delta\", hue=\"class_name\", data=Test_Local_descriptors, saturation=1.0, palette='husl', ax=ax, width=0.8, fliersize= 0, hue_order=[\"Ia_WW\", \"IIa_WD\", \"IIIa_AU\", \"IVc_STR\", 'IVd_BRU', \"Va_CYS\"])\n",
        "#adjust_box_widths(boxplot2, 0.9)\n",
        "# Adjust the transparency of the boxplots\n",
        "for patch in boxplot2.artists:\n",
        "    r, g, b, a = patch.get_facecolor()\n",
        "    patch.set_facecolor((r, g, b, .30))\n",
        "\n",
        "\n",
        "\n",
        "# Add the scatter plots\n",
        "boxplot2= sns.stripplot(x=\"modification\", y=\"delta\", hue=\"class_name\", data=Test_Local_descriptors, marker=\"o\", size=3, alpha=0.05, palette='husl', ax=ax, jitter=True, dodge=True, hue_order=[\"Ia_WW\", \"IIa_WD\", \"IIIa_AU\", \"IVc_STR\", 'IVd_BRU', \"Va_CYS\"])\n",
        "boxplot2.set(xlabel=None)\n",
        "#boxplot2.legend(None)\n",
        "#plt.legend(bbox_to_anchor=(1.0, 1), loc=2, frameon=False)\n",
        "#boxplot2.figure(figsize=(8, 6), dpi=80)\n",
        "\n",
        "#Removing the \"legend\" from the graph\n",
        "#plt.legend([],[], frameon=False)\n",
        "#Showing just specific labels in the \"legend\" of the graph\n",
        "h,l = boxplot2.get_legend_handles_labels()\n",
        "plt.legend(h[0:6],l[0:6],bbox_to_anchor=(0.93, 1), loc=2, borderaxespad=0.0, framealpha=1, facecolor ='white', frameon=True, title=\"Class\")\n",
        "\n",
        "# Format for the labels in the graph\n",
        "boxplot2.axes.set_title(\"Classes per Descriptor on Test Images\", fontsize=32)\n",
        "#boxplot.set_xlabel(\"Features\", fontsize=12)\n",
        "boxplot2.set(xlabel=None)\n",
        "# Rotate the labels by 45 degrees\n",
        "#boxplot.set_xticklabels(boxplot.get_xticklabels() , rotation=90)\n",
        "#boxplot.tick_params(labelsize=8)\n",
        "boxplot2.set_ylabel(\"PPs delta (Descriptor Activation)\", fontsize=24)\n",
        "sns.set_context(\"poster\")\n",
        "\n",
        "#To save the graph:\n",
        "#plt.savefig(\"Descriptors_for_Train_Images.pdf\", format=\"pdf\", bbox_inches=\"tight\")\n",
        "plt.savefig(\"DescriptorsPerClass_TestImages.png\", bbox_inches='tight', pad_inches=0.1)\n",
        "\n",
        "plt.show()\n",
        "plt.clf()\n",
        "plt.close()"
      ],
      "metadata": {
        "id": "xUNv4TgBQyOq"
      },
      "execution_count": null,
      "outputs": []
    },
    {
      "cell_type": "code",
      "source": [
        "#boxplot = sns.catplot(x=\"class_n_modification\", y=\"delta\", hue=\"class\", data=Test_Local_descriptors, saturation=1.0, palette='husl', width=0.4, fliersize= 0, hue_order=[0, 1, 2, 3, 4, 5], kind=\"box\") \n",
        "#boxplot = sns.stripplot(x=\"class_n_modification\", y=\"delta\", hue=\"class\", data=Test_Local_descriptors, marker=\"o\", size=3, alpha=0.10, palette='husl',  jitter=True, dodge=True, hue_order=[0, 1, 2, 3, 4, 5]) \n",
        "\n",
        "#Changing Seaborn context, this changes format of all plots\n",
        "sns.set_context(\"poster\")\n",
        "\n",
        "# Create the figure and axes\n",
        "boxplot2, ax = plt.subplots(figsize=(25,15))\n",
        "\n",
        "# Create the boxplot\n",
        "# kind=\"box\", height=8, aspect=2\n",
        "boxplot2=sns.boxplot(  x=\"modification\", y=\"delta\", hue=\"class_name\", data=Test_Local_descriptors, saturation=1.0, palette='husl', ax=ax, width=0.8, fliersize= 0, hue_order=[\"Ia_WW\", \"IIa_WD\", \"IIIa_AU\", \"IVc_STR\", 'IVd_BRU', \"Va_CYS\"])\n",
        "#adjust_box_widths(boxplot2, 0.9)\n",
        "# Adjust the transparency of the boxplots\n",
        "#for patch in boxplot2.artists:\n",
        "#    r, g, b, a = patch.get_facecolor()\n",
        "#    patch.set_facecolor((r, g, b, 1.0))\n",
        "\n",
        "\n",
        "\n",
        "# Add the scatter plots\n",
        "#boxplot2= sns.stripplot(x=\"modification\", y=\"delta\", hue=\"class_name\", data=Test_Local_descriptors, marker=\"o\", size=3, alpha=0.05, palette='husl', ax=ax, jitter=True, dodge=True, hue_order=[\"Ia_WW\", \"IIa_WD\", \"IIIa_AU\", \"IVc_STR\", 'IVd_BRU', \"Va_CYS\"])\n",
        "\n",
        "# Set Y-axis limits\n",
        "boxplot2.set_ylim(-2.5, 4.1)\n",
        "\n",
        "boxplot2.set(xlabel=None)\n",
        "#boxplot2.legend(None)\n",
        "#plt.legend(bbox_to_anchor=(1.0, 1), loc=2, frameon=False)\n",
        "#boxplot2.figure(figsize=(8, 6), dpi=80)\n",
        "\n",
        "#Removing the \"legend\" from the graph\n",
        "#plt.legend([],[], frameon=False)\n",
        "#Showing just specific labels in the \"legend\" of the graph\n",
        "h,l = boxplot2.get_legend_handles_labels()\n",
        "plt.legend(h[0:6],l[0:6],bbox_to_anchor=(0.97, 1.0), loc=2, borderaxespad=0.0, framealpha=1, facecolor ='white', frameon=True, title=\"Class\")\n",
        "\n",
        "# Format for the labels in the graph\n",
        "boxplot2.axes.set_title(\"Descriptors per Class on Test Images\", fontsize=32)\n",
        "#boxplot.set_xlabel(\"Features\", fontsize=12)\n",
        "boxplot2.set(xlabel=None)\n",
        "# Rotate the labels by 45 degrees\n",
        "#boxplot.set_xticklabels(boxplot.get_xticklabels() , rotation=90)\n",
        "#boxplot.tick_params(labelsize=8)\n",
        "boxplot2.set_ylabel(\"PPs delta (Descriptor Activation)\", fontsize=24)\n",
        "sns.set_context(\"poster\")\n",
        "\n",
        "#To save the graph:\n",
        "#plt.savefig(\"Descriptors_for_Train_Images.pdf\", format=\"pdf\", bbox_inches=\"tight\")\n",
        "plt.savefig(\"DescriptorsPerClass_TestImages_JustBoxPlots.png\", bbox_inches='tight', pad_inches=0.1)\n",
        "\n",
        "plt.show()\n",
        "plt.clf()\n",
        "plt.close()"
      ],
      "metadata": {
        "id": "pxEUVYwo8PZk"
      },
      "execution_count": null,
      "outputs": []
    },
    {
      "cell_type": "code",
      "source": [
        "def plot_ScatterBoxPlot(saved_img_name, plotted_df, x_axis, y_axis, hue_column, with_stripplot=False, hue_order_used=[\"Ia_WW\", \"IIa_WD\", \"IIIa_AU\", \"IVc_STR\", 'IVd_BRU', \"Va_CYS\"], alpha_used=0.3 ):\n",
        "  #boxplot = sns.catplot(x=\"class_n_modification\", y=\"delta\", hue=\"class\", data=Test_Local_descriptors, saturation=1.0, palette='husl', width=0.4, fliersize= 0, hue_order=[0, 1, 2, 3, 4, 5], kind=\"box\") \n",
        "  #boxplot = sns.stripplot(x=\"class_n_modification\", y=\"delta\", hue=\"class\", data=Test_Local_descriptors, marker=\"o\", size=3, alpha=0.10, palette='husl',  jitter=True, dodge=True, hue_order=[0, 1, 2, 3, 4, 5]) \n",
        "\n",
        "  #Changing Seaborn context, this changes format of all plots\n",
        "  sns.set_context(\"poster\")\n",
        "\n",
        "  # Create the figure and axes\n",
        "  boxplot2, ax = plt.subplots(figsize=(25,15))\n",
        "\n",
        "  # Create the boxplot\n",
        "  # kind=\"box\", height=8, aspect=2\n",
        "  boxplot2=sns.boxplot(  x=x_axis, y=y_axis, hue=hue_column, data=plotted_df, saturation=1.0, palette='husl', ax=ax, width=0.8, fliersize= 0, hue_order= hue_order_used) #[\"Ia_WW\", \"IIa_WD\", \"IIIa_AU\", \"IVc_STR\", 'IVd_BRU', \"Va_CYS\"])\n",
        "  #adjust_box_widths(boxplot2, 0.9)\n",
        "  # Adjust the transparency of the boxplots\n",
        "  for patch in boxplot2.artists:\n",
        "      r, g, b, a = patch.get_facecolor()\n",
        "      patch.set_facecolor((r, g, b, .30))\n",
        "\n",
        "\n",
        "  if with_stripplot == True:\n",
        "    # Add the scatter plots\n",
        "    boxplot2= sns.stripplot(x=x_axis, y=y_axis, hue=hue_column, data=plotted_df, marker=\"o\", size=3, alpha=alpha_used, palette='husl', ax=ax, jitter=True, dodge=True, hue_order= hue_order_used) #[\"Ia_WW\", \"IIa_WD\", \"IIIa_AU\", \"IVc_STR\", 'IVd_BRU', \"Va_CYS\"])\n",
        "  boxplot2.set(xlabel=None)\n",
        "  #boxplot2.legend(None)\n",
        "  #plt.legend(bbox_to_anchor=(1.0, 1), loc=2, frameon=False)\n",
        "  #boxplot2.figure(figsize=(8, 6), dpi=80)\n",
        "\n",
        "  #Removing the \"legend\" from the graph\n",
        "  #plt.legend([],[], frameon=False)\n",
        "  #Showing just specific labels in the \"legend\" of the graph\n",
        "  h,l = boxplot2.get_legend_handles_labels()\n",
        "  plt.legend(h[0:6],l[0:6],bbox_to_anchor=(0.93, 1), loc=2, borderaxespad=0.0, framealpha=1, facecolor ='white', frameon=True, title=\"Class\")\n",
        "\n",
        "  # Format for the labels in the graph\n",
        "  boxplot2.axes.set_title(\"Brightness per Class on Test Images\", fontsize=32)\n",
        "  #boxplot.set_xlabel(\"Features\", fontsize=12)\n",
        "  boxplot2.set(xlabel=None)\n",
        "  # Rotate the labels by 45 degrees\n",
        "  #boxplot.set_xticklabels(boxplot.get_xticklabels() , rotation=90)\n",
        "  #boxplot.tick_params(labelsize=8)\n",
        "  boxplot2.set_ylabel(\"PPs delta (Descriptor Activation)\", fontsize=24)\n",
        "  sns.set_context(\"poster\")\n",
        "\n",
        "  #To save the graph:\n",
        "  #plt.savefig(\"Descriptors_for_Train_Images.pdf\", format=\"pdf\", bbox_inches=\"tight\")\n",
        "  plt.savefig(saved_img_name, bbox_inches='tight', pad_inches=0.1)\n",
        "\n",
        "  plt.show()\n",
        "  plt.clf()\n",
        "  plt.close()\n",
        "\n",
        "plot_ScatterBoxPlot(saved_img_name = \"Brightness_DescriptorPerClass_TestImages.png\", plotted_df=Test_Local_descriptors.groupby(\"modification\").get_group(\"brightness\") , x_axis=\"modification\", y_axis=\"delta\", hue_column=\"class_name\", with_stripplot=True, hue_order_used=[\"Ia_WW\", \"IIa_WD\", \"IIIa_AU\", \"IVc_STR\", 'IVd_BRU', \"Va_CYS\"], alpha_used=0.3 )"
      ],
      "metadata": {
        "id": "yopUrr1sAtbo"
      },
      "execution_count": null,
      "outputs": []
    },
    {
      "cell_type": "code",
      "source": [
        "import seaborn as sns\n",
        "\n",
        "# Load the data\n",
        "df = sns.load_dataset(\"titanic\")\n",
        "\n",
        "# Create the figure and axes\n",
        "fig, ax = plt.subplots()\n",
        "\n",
        "# Create the boxplot\n",
        "sns.boxplot(x=\"class\", y=\"age\", hue=\"sex\", data=df, ax=ax, hue_order=[\"male\", \"female\"])\n",
        "\n",
        "# Add the scatter plots\n",
        "sns.stripplot(x=\"class\", y=\"age\", hue=\"sex\", data=df, ax=ax, jitter=False, dodge=True, hue_order=[\"male\", \"female\"])\n",
        "\n"
      ],
      "metadata": {
        "id": "5liOYoG6-jkz"
      },
      "execution_count": null,
      "outputs": []
    },
    {
      "cell_type": "code",
      "source": [
        "# import necessary libraries\n",
        "import seaborn as sns\n",
        "from plotnine import *\n",
        "\n",
        "# load titanic data\n",
        "titanic = sns.load_dataset('titanic')\n",
        "print(titanic)\n",
        "# create boxplots\n",
        "plot = ggplot(aes(x='class', y='age', fill=\"sex\"), titanic, ) + geom_boxplot() #, group='sex'\n",
        "\n",
        "# create scatter plots\n",
        "plot += geom_point(aes(x='class', y='age', fill=\"sex\" ), data=titanic, color='red', alpha = 0.1) # data=titanic, aes(x='fare', y='age', group='class'), group='sex'\n",
        "\n",
        "# customize plot appearance\n",
        "plot += labs(title='Grouped Boxplots with Overlapping Scatter Plots (Titanic Data)' )#, x='Fare', y='Age')\n",
        "\n",
        "#plot += scale_y_continuous( limits=[0, 70]) # breaks=np.arange(0, 20001, 2500),\n",
        "\n",
        "# display plot\n",
        "plot #.show()\n"
      ],
      "metadata": {
        "id": "iKuRugpIW8fY"
      },
      "execution_count": null,
      "outputs": []
    },
    {
      "cell_type": "code",
      "source": [
        "# import necessary libraries\n",
        "import seaborn as sns\n",
        "from plotnine import *\n",
        "\n",
        "# load titanic data\n",
        "titanic = sns.load_dataset('titanic')\n",
        "\n",
        "# create boxplots\n",
        "plot = ggplot(titanic, aes(x='class', y='age', group='sex')) + geom_boxplot()\n",
        "\n",
        "# create scatter plots\n",
        "plot += geom_point(aes(x='class', y='age', group='sex'), data=titanic, color='red')\n",
        "\n",
        "# customize plot appearance\n",
        "plot += labs(title='Grouped Boxplots with Overlapping Scatter Plots (Titanic Data)', x='Passenger Class', y='Age')\n",
        "\n",
        "# display plot\n",
        "plot #.show()\n"
      ],
      "metadata": {
        "id": "lsT16pESbCXE"
      },
      "execution_count": null,
      "outputs": []
    },
    {
      "cell_type": "code",
      "source": [
        "import pandas as pd\n",
        "import ggplot\n",
        "from ggplot import aes, geom_boxplot, geom_point\n",
        "import seaborn as sns\n",
        "\n",
        "# Load the data\n",
        "df = sns.load_dataset(\"titanic\")\n",
        "# Load the data\n",
        "#df = pd.read_csv(\"titanic.csv\")\n",
        "\n",
        "#ggplot(data = df, aes(x=\"class\", y=\"age\")) + geom_boxplot() + geom_point(aes(color= \"blue\"), position=position_dodge(width=0.5))\n",
        "ggplot(aes(x=\"class\", y=\"age\", color=\"sex\"), df) + geom_boxplot() + geom_point()\n",
        "\n",
        "\n",
        "# Create the plot\n",
        "#p = ggplot(aes(x=\"class\", y=\"age\", color=\"sex\"), df) + geom_boxplot() + geom_point()\n",
        "\n",
        "# Show the plot\n",
        "#p.show()\n"
      ],
      "metadata": {
        "id": "LDVwwNtGLfcC"
      },
      "execution_count": null,
      "outputs": []
    },
    {
      "cell_type": "code",
      "source": [
        "# Get the maximum value of 'delta' \n",
        "max_train_delta = Test_Local_descriptors['delta'].max()\n",
        "\n",
        "# Divide 'normalized_modifiers' by the maximum value for each group\n",
        "Train_Local_descriptors['normalized_modifiers'] = Train_Local_descriptors['delta'] / max_train_delta"
      ],
      "metadata": {
        "id": "xl_EUg8lMqtF"
      },
      "execution_count": null,
      "outputs": []
    },
    {
      "cell_type": "code",
      "source": [
        "#boxplot = Test_Local_descriptors.boxplot(column = 'delta',  by= 'modification', fontsize= 12, rot= 45, figsize = (10,5) )#, grid:bool = True, ax= None, layout = None, return_type= None, backend= None, **kwargs)\n",
        "#\n",
        "#sns.color_palette(\"hls\", 8)\n",
        "plt.figure(figsize=(8,4))\n",
        "#plt.plot([-1, 5], [0.85, 0.85]) # plt.plot([x1, x2], [y, y]) # this line of code adds a horizontal solid line on the boxplot \n",
        "#plt.axhline(y=0.91, color='#00f7ff', linewidth=1.35)\n",
        "##plt.axhline(y=0.85, color='#ff3300', linestyle='--', linewidth=1.35, label='Avg. Baseline Accuracy Value')\n",
        "#plt.axhline(y=0.82, color='#00f7ff', linestyle='solid', linewidth=.85, label='Avg. Baseline Accuracy Value')\n",
        "\n",
        "#boxplot = sns.boxplot(x=\"variable\", y=\"value\", data=pd.melt(data_NoDAvsDA))\n",
        "boxplot = sns.boxplot(x=\"modification\", y=\"normalized_modifiers\", data=Test_Local_descriptors, saturation=1.0, palette='husl', width=0.4, fliersize= 0) #boxprops={'facecolor':(.4, .6, .8, .5)},  boxprops=dict(alpha=.3)\n",
        "for patch in boxplot.artists:\n",
        "    r, g, b, a = patch.get_facecolor()\n",
        "    patch.set_facecolor((r, g, b, .6))\n",
        "\n",
        "boxplot = sns.stripplot(x=\"modification\", y=\"normalized_modifiers\", data=Test_Local_descriptors, marker=\"o\", size=1, alpha=0.10, palette='husl')  #\"hls\")#color=\"black\") #Spectral\n",
        "boxplot.axes.set_title(\"Normalized Descriptors for Train Images\", fontsize=14)\n",
        "#boxplot.set_xlabel(\"Features\", fontsize=14)\n",
        "boxplot.set(xlabel=None)\n",
        "# Rotate the labels by 45 degrees\n",
        "boxplot.set_xticklabels(boxplot.get_xticklabels(), rotation=45)\n",
        "boxplot.tick_params(labelsize=12)\n",
        "boxplot.set_ylabel(\"PPs delta (Descriptor Activation)\", fontsize=12)\n",
        "#plt.legend(bbox_to_anchor=(0.31, 1.0), loc=2, borderaxespad=0.0, framealpha=1, facecolor ='white', frameon=True) # adds the label box for the \"Avg. Baseline Accuracy Value\" dashed line\n",
        "#plt.savefig(\"Normalized_Descriptors_for_Train_Images.pdf\", format=\"pdf\", bbox_inches=\"tight\")\n",
        "plt.savefig(\"Normalized_Descriptors_for_Train_Images.png\", bbox_inches='tight', pad_inches=0.1)\n",
        "plt.show()"
      ],
      "metadata": {
        "colab": {
          "base_uri": "https://localhost:8080/",
          "height": 329
        },
        "outputId": "c91a73fd-6005-45cf-88f3-199a0e691408",
        "id": "O18BwcKcMqtF"
      },
      "execution_count": null,
      "outputs": [
        {
          "output_type": "display_data",
          "data": {
            "text/plain": [
              "<Figure size 576x288 with 1 Axes>"
            ],
            "image/png": "[encoded data removed]"
          },
          "metadata": {}
        }
      ]
    },
    {
      "cell_type": "code",
      "source": [],
      "metadata": {
        "id": "r1lXR1p0C-4B"
      },
      "execution_count": null,
      "outputs": []
    }
  ]
}